{
 "cells": [
  {
   "cell_type": "code",
   "execution_count": 1,
   "metadata": {},
   "outputs": [],
   "source": [
    "import pandas as pd\n",
    "import numpy as np\n",
    "\n",
    "import matplotlib.pyplot as plt\n",
    "import seaborn as sns\n",
    "\n",
    "import imageio.v3 as iio\n",
    "\n",
    "import cv2\n",
    "\n",
    "from sklearn.model_selection import train_test_split\n",
    "from sklearn.metrics import f1_score\n",
    "\n",
    "import tensorflow as tf\n",
    "from tensorflow import keras\n",
    "\n",
    "%matplotlib inline\n",
    "np.random.seed(42)"
   ]
  },
  {
   "cell_type": "code",
   "execution_count": 2,
   "metadata": {},
   "outputs": [
    {
     "data": {
      "text/html": [
       "<div>\n",
       "<style scoped>\n",
       "    .dataframe tbody tr th:only-of-type {\n",
       "        vertical-align: middle;\n",
       "    }\n",
       "\n",
       "    .dataframe tbody tr th {\n",
       "        vertical-align: top;\n",
       "    }\n",
       "\n",
       "    .dataframe thead th {\n",
       "        text-align: right;\n",
       "    }\n",
       "</style>\n",
       "<table border=\"1\" class=\"dataframe\">\n",
       "  <thead>\n",
       "    <tr style=\"text-align: right;\">\n",
       "      <th></th>\n",
       "      <th>filepaths</th>\n",
       "      <th>Font</th>\n",
       "    </tr>\n",
       "  </thead>\n",
       "  <tbody>\n",
       "    <tr>\n",
       "      <th>0</th>\n",
       "      <td>../input/english-fontnumber-recognition/Font/F...</td>\n",
       "      <td>x</td>\n",
       "    </tr>\n",
       "    <tr>\n",
       "      <th>1</th>\n",
       "      <td>../input/english-fontnumber-recognition/Font/F...</td>\n",
       "      <td>x</td>\n",
       "    </tr>\n",
       "    <tr>\n",
       "      <th>2</th>\n",
       "      <td>../input/english-fontnumber-recognition/Font/F...</td>\n",
       "      <td>x</td>\n",
       "    </tr>\n",
       "    <tr>\n",
       "      <th>3</th>\n",
       "      <td>../input/english-fontnumber-recognition/Font/F...</td>\n",
       "      <td>x</td>\n",
       "    </tr>\n",
       "    <tr>\n",
       "      <th>4</th>\n",
       "      <td>../input/english-fontnumber-recognition/Font/F...</td>\n",
       "      <td>x</td>\n",
       "    </tr>\n",
       "    <tr>\n",
       "      <th>...</th>\n",
       "      <td>...</td>\n",
       "      <td>...</td>\n",
       "    </tr>\n",
       "    <tr>\n",
       "      <th>62987</th>\n",
       "      <td>../input/english-fontnumber-recognition/Font/F...</td>\n",
       "      <td>n</td>\n",
       "    </tr>\n",
       "    <tr>\n",
       "      <th>62988</th>\n",
       "      <td>../input/english-fontnumber-recognition/Font/F...</td>\n",
       "      <td>n</td>\n",
       "    </tr>\n",
       "    <tr>\n",
       "      <th>62989</th>\n",
       "      <td>../input/english-fontnumber-recognition/Font/F...</td>\n",
       "      <td>n</td>\n",
       "    </tr>\n",
       "    <tr>\n",
       "      <th>62990</th>\n",
       "      <td>../input/english-fontnumber-recognition/Font/F...</td>\n",
       "      <td>n</td>\n",
       "    </tr>\n",
       "    <tr>\n",
       "      <th>62991</th>\n",
       "      <td>../input/english-fontnumber-recognition/Font/F...</td>\n",
       "      <td>n</td>\n",
       "    </tr>\n",
       "  </tbody>\n",
       "</table>\n",
       "<p>62992 rows × 2 columns</p>\n",
       "</div>"
      ],
      "text/plain": [
       "                                               filepaths Font\n",
       "0      ../input/english-fontnumber-recognition/Font/F...    x\n",
       "1      ../input/english-fontnumber-recognition/Font/F...    x\n",
       "2      ../input/english-fontnumber-recognition/Font/F...    x\n",
       "3      ../input/english-fontnumber-recognition/Font/F...    x\n",
       "4      ../input/english-fontnumber-recognition/Font/F...    x\n",
       "...                                                  ...  ...\n",
       "62987  ../input/english-fontnumber-recognition/Font/F...    n\n",
       "62988  ../input/english-fontnumber-recognition/Font/F...    n\n",
       "62989  ../input/english-fontnumber-recognition/Font/F...    n\n",
       "62990  ../input/english-fontnumber-recognition/Font/F...    n\n",
       "62991  ../input/english-fontnumber-recognition/Font/F...    n\n",
       "\n",
       "[62992 rows x 2 columns]"
      ]
     },
     "execution_count": 2,
     "metadata": {},
     "output_type": "execute_result"
    }
   ],
   "source": [
    "raw_ds = pd.read_csv('../train.csv') #Import the train data\n",
    "\n",
    "raw_ds"
   ]
  },
  {
   "cell_type": "code",
   "execution_count": 3,
   "metadata": {},
   "outputs": [
    {
     "name": "stdout",
     "output_type": "stream",
     "text": [
      "['x' 'D' 'A' 'e' 'O' 'm' '9' 'G' 'V' '4' 'X' 'U' '2' '8' '1' 'p' 'Y' 'H'\n",
      " '3' 'J' 'y' 'S' 'Z' 'k' 'T' 'I' 'B' 'K' 's' 'E' 'd' 'q' 'u' 'M' 'W' '6'\n",
      " 'a' 'v' 't' '0' 'P' 'j' 'Q' 'o' 'h' 'g' 'b' 'w' 'c' 'f' 'R' '7' 'N' 'L'\n",
      " 'F' 'i' 'C' 'z' 'l' '5' 'r' 'n']\n",
      "\n",
      "Number of class: 62\n"
     ]
    }
   ],
   "source": [
    "print(raw_ds[\"Font\"].unique())\n",
    "\n",
    "print()\n",
    "print(f'Number of class: {raw_ds[\"Font\"].nunique()}')"
   ]
  },
  {
   "cell_type": "code",
   "execution_count": 4,
   "metadata": {},
   "outputs": [
    {
     "data": {
      "text/plain": [
       "Font\n",
       "x    1016\n",
       "b    1016\n",
       "M    1016\n",
       "W    1016\n",
       "6    1016\n",
       "     ... \n",
       "I    1016\n",
       "B    1016\n",
       "K    1016\n",
       "s    1016\n",
       "n    1016\n",
       "Name: count, Length: 62, dtype: int64"
      ]
     },
     "execution_count": 4,
     "metadata": {},
     "output_type": "execute_result"
    }
   ],
   "source": [
    "raw_ds['Font'].value_counts()"
   ]
  },
  {
   "cell_type": "markdown",
   "metadata": {},
   "source": [
    "Every folder there are 1016, so this file map all the images we have on database, so we need to split it into train and test"
   ]
  },
  {
   "cell_type": "markdown",
   "metadata": {},
   "source": [
    "However, We also need to import every image from the path, so let's create a function to do this automatically for us"
   ]
  },
  {
   "cell_type": "markdown",
   "metadata": {},
   "source": [
    "But before this, let's check the shape of the images"
   ]
  },
  {
   "cell_type": "code",
   "execution_count": 5,
   "metadata": {},
   "outputs": [
    {
     "name": "stdout",
     "output_type": "stream",
     "text": [
      "[[255 255 255 ... 255 255 255]\n",
      " [255 255 255 ... 255 255 255]\n",
      " [255 255 255 ... 255 255 255]\n",
      " ...\n",
      " [255 255 255 ... 255 255 255]\n",
      " [255 255 255 ... 255 255 255]\n",
      " [255 255 255 ... 255 255 255]]\n",
      "\n",
      "The shape:(128, 128)\n"
     ]
    },
    {
     "data": {
      "text/plain": [
       "<matplotlib.image.AxesImage at 0x23636760f10>"
      ]
     },
     "execution_count": 5,
     "metadata": {},
     "output_type": "execute_result"
    },
    {
     "data": {
      "image/png": "[encoded data removed]",
      "text/plain": [
       "<Figure size 432x288 with 1 Axes>"
      ]
     },
     "metadata": {
      "needs_background": "light"
     },
     "output_type": "display_data"
    }
   ],
   "source": [
    "image = iio.imread(raw_ds['filepaths'][0])\n",
    "\n",
    "print(image)\n",
    "\n",
    "print()\n",
    "\n",
    "print(f'The shape:{image.shape}')\n",
    "\n",
    "plt.imshow(image)"
   ]
  },
  {
   "cell_type": "markdown",
   "metadata": {},
   "source": [
    "So let's configure the shape"
   ]
  },
  {
   "cell_type": "code",
   "execution_count": 6,
   "metadata": {},
   "outputs": [],
   "source": [
    "batch_size = 32\n",
    "image_width = 128\n",
    "image_height = 128\n",
    "\n",
    "num_class = 62"
   ]
  },
  {
   "cell_type": "markdown",
   "metadata": {},
   "source": [
    "# Train Test Split and preprocessing"
   ]
  },
  {
   "cell_type": "markdown",
   "metadata": {},
   "source": [
    "We will use only 70% of dataset to reduce training time"
   ]
  },
  {
   "cell_type": "code",
   "execution_count": 7,
   "metadata": {},
   "outputs": [
    {
     "data": {
      "text/html": [
       "<div>\n",
       "<style scoped>\n",
       "    .dataframe tbody tr th:only-of-type {\n",
       "        vertical-align: middle;\n",
       "    }\n",
       "\n",
       "    .dataframe tbody tr th {\n",
       "        vertical-align: top;\n",
       "    }\n",
       "\n",
       "    .dataframe thead th {\n",
       "        text-align: right;\n",
       "    }\n",
       "</style>\n",
       "<table border=\"1\" class=\"dataframe\">\n",
       "  <thead>\n",
       "    <tr style=\"text-align: right;\">\n",
       "      <th></th>\n",
       "      <th>filepaths</th>\n",
       "      <th>Font</th>\n",
       "    </tr>\n",
       "  </thead>\n",
       "  <tbody>\n",
       "    <tr>\n",
       "      <th>25455</th>\n",
       "      <td>../input/english-fontnumber-recognition/Font/F...</td>\n",
       "      <td>I</td>\n",
       "    </tr>\n",
       "    <tr>\n",
       "      <th>53258</th>\n",
       "      <td>../input/english-fontnumber-recognition/Font/F...</td>\n",
       "      <td>N</td>\n",
       "    </tr>\n",
       "    <tr>\n",
       "      <th>52219</th>\n",
       "      <td>../input/english-fontnumber-recognition/Font/F...</td>\n",
       "      <td>7</td>\n",
       "    </tr>\n",
       "    <tr>\n",
       "      <th>45452</th>\n",
       "      <td>../input/english-fontnumber-recognition/Font/F...</td>\n",
       "      <td>h</td>\n",
       "    </tr>\n",
       "    <tr>\n",
       "      <th>28509</th>\n",
       "      <td>../input/english-fontnumber-recognition/Font/F...</td>\n",
       "      <td>s</td>\n",
       "    </tr>\n",
       "    <tr>\n",
       "      <th>...</th>\n",
       "      <td>...</td>\n",
       "      <td>...</td>\n",
       "    </tr>\n",
       "    <tr>\n",
       "      <th>62570</th>\n",
       "      <td>../input/english-fontnumber-recognition/Font/F...</td>\n",
       "      <td>n</td>\n",
       "    </tr>\n",
       "    <tr>\n",
       "      <th>38158</th>\n",
       "      <td>../input/english-fontnumber-recognition/Font/F...</td>\n",
       "      <td>v</td>\n",
       "    </tr>\n",
       "    <tr>\n",
       "      <th>860</th>\n",
       "      <td>../input/english-fontnumber-recognition/Font/F...</td>\n",
       "      <td>x</td>\n",
       "    </tr>\n",
       "    <tr>\n",
       "      <th>15795</th>\n",
       "      <td>../input/english-fontnumber-recognition/Font/F...</td>\n",
       "      <td>p</td>\n",
       "    </tr>\n",
       "    <tr>\n",
       "      <th>56422</th>\n",
       "      <td>../input/english-fontnumber-recognition/Font/F...</td>\n",
       "      <td>i</td>\n",
       "    </tr>\n",
       "  </tbody>\n",
       "</table>\n",
       "<p>44094 rows × 2 columns</p>\n",
       "</div>"
      ],
      "text/plain": [
       "                                               filepaths Font\n",
       "25455  ../input/english-fontnumber-recognition/Font/F...    I\n",
       "53258  ../input/english-fontnumber-recognition/Font/F...    N\n",
       "52219  ../input/english-fontnumber-recognition/Font/F...    7\n",
       "45452  ../input/english-fontnumber-recognition/Font/F...    h\n",
       "28509  ../input/english-fontnumber-recognition/Font/F...    s\n",
       "...                                                  ...  ...\n",
       "62570  ../input/english-fontnumber-recognition/Font/F...    n\n",
       "38158  ../input/english-fontnumber-recognition/Font/F...    v\n",
       "860    ../input/english-fontnumber-recognition/Font/F...    x\n",
       "15795  ../input/english-fontnumber-recognition/Font/F...    p\n",
       "56422  ../input/english-fontnumber-recognition/Font/F...    i\n",
       "\n",
       "[44094 rows x 2 columns]"
      ]
     },
     "execution_count": 7,
     "metadata": {},
     "output_type": "execute_result"
    }
   ],
   "source": [
    "raw_ds_70 , t = train_test_split(raw_ds, test_size=0.3, shuffle=True)\n",
    "\n",
    "raw_ds_70"
   ]
  },
  {
   "cell_type": "markdown",
   "metadata": {},
   "source": [
    "We will use 2 dataset:  \n",
    "\n",
    "Train Dataset - 80%  \n",
    "Validation Dataset - 20%"
   ]
  },
  {
   "cell_type": "code",
   "execution_count": 8,
   "metadata": {},
   "outputs": [],
   "source": [
    "train_ds, val_ds = train_test_split(raw_ds_70, test_size=0.2, shuffle=True)"
   ]
  },
  {
   "cell_type": "code",
   "execution_count": 9,
   "metadata": {},
   "outputs": [],
   "source": [
    "train_ds = train_ds.reset_index(drop=True)\n",
    "val_ds = val_ds.reset_index(drop=True)"
   ]
  },
  {
   "cell_type": "markdown",
   "metadata": {},
   "source": [
    "So now let's use the keras module \"ImageDataGenerator()\" to import and processing our images"
   ]
  },
  {
   "cell_type": "code",
   "execution_count": 10,
   "metadata": {},
   "outputs": [],
   "source": [
    "train_datagen = keras.preprocessing.image.ImageDataGenerator()"
   ]
  },
  {
   "cell_type": "code",
   "execution_count": 11,
   "metadata": {},
   "outputs": [
    {
     "name": "stdout",
     "output_type": "stream",
     "text": [
      "Found 35275 validated image filenames belonging to 62 classes.\n",
      "Found 8819 validated image filenames belonging to 62 classes.\n"
     ]
    }
   ],
   "source": [
    "train_generator = train_datagen.flow_from_dataframe(\n",
    "    train_ds,\n",
    "    x_col = 'filepaths',\n",
    "    y_col='Font',\n",
    "    target_size=(image_width, image_height),\n",
    "    class_mode='categorical',\n",
    "    batch_size=batch_size,\n",
    "    rescale=1./255\n",
    "    )\n",
    "\n",
    "val_generator = train_datagen.flow_from_dataframe(\n",
    "    val_ds,\n",
    "    x_col = 'filepaths',\n",
    "    y_col='Font',\n",
    "    target_size=(image_width, image_height),\n",
    "    class_mode='categorical',\n",
    "    batch_size=batch_size,\n",
    "    rescale=1./255\n",
    ")"
   ]
  },
  {
   "cell_type": "code",
   "execution_count": 12,
   "metadata": {},
   "outputs": [
    {
     "name": "stderr",
     "output_type": "stream",
     "text": [
      "Clipping input data to the valid range for imshow with RGB data ([0..1] for floats or [0..255] for integers).\n",
      "Clipping input data to the valid range for imshow with RGB data ([0..1] for floats or [0..255] for integers).\n",
      "Clipping input data to the valid range for imshow with RGB data ([0..1] for floats or [0..255] for integers).\n",
      "Clipping input data to the valid range for imshow with RGB data ([0..1] for floats or [0..255] for integers).\n",
      "Clipping input data to the valid range for imshow with RGB data ([0..1] for floats or [0..255] for integers).\n",
      "Clipping input data to the valid range for imshow with RGB data ([0..1] for floats or [0..255] for integers).\n",
      "Clipping input data to the valid range for imshow with RGB data ([0..1] for floats or [0..255] for integers).\n",
      "Clipping input data to the valid range for imshow with RGB data ([0..1] for floats or [0..255] for integers).\n",
      "Clipping input data to the valid range for imshow with RGB data ([0..1] for floats or [0..255] for integers).\n"
     ]
    },
    {
     "data": {
      "image/png": "[encoded data removed]",
      "text/plain": [
       "<Figure size 432x288 with 9 Axes>"
      ]
     },
     "metadata": {
      "needs_background": "light"
     },
     "output_type": "display_data"
    }
   ],
   "source": [
    "x, y = train_generator[0]\n",
    "for i in range(9):\n",
    "    image = x[i]\n",
    "    ax = plt.subplot(3, 3, i+1)\n",
    "    plt.imshow(image)\n",
    "    plt.axis(False)"
   ]
  },
  {
   "cell_type": "markdown",
   "metadata": {},
   "source": [
    "We have a a good amount of each label, we will not need to balance the labels\n",
    "\n",
    "Let's start to use TensorFlow"
   ]
  },
  {
   "cell_type": "code",
   "execution_count": 14,
   "metadata": {},
   "outputs": [],
   "source": [
    "input_shape = (image_width, image_height, 3)"
   ]
  },
  {
   "cell_type": "code",
   "execution_count": 93,
   "metadata": {},
   "outputs": [
    {
     "name": "stdout",
     "output_type": "stream",
     "text": [
      "Model: \"sequential_16\"\n",
      "_________________________________________________________________\n",
      " Layer (type)                Output Shape              Param #   \n",
      "=================================================================\n",
      " conv2d_8 (Conv2D)           (None, 126, 126, 32)      896       \n",
      "                                                                 \n",
      " max_pooling2d_7 (MaxPooling  (None, 63, 63, 32)       0         \n",
      " 2D)                                                             \n",
      "                                                                 \n",
      " conv2d_9 (Conv2D)           (None, 61, 61, 64)        18496     \n",
      "                                                                 \n",
      " max_pooling2d_8 (MaxPooling  (None, 30, 30, 64)       0         \n",
      " 2D)                                                             \n",
      "                                                                 \n",
      " flatten_7 (Flatten)         (None, 57600)             0         \n",
      "                                                                 \n",
      " dense_30 (Dense)            (None, 128)               7372928   \n",
      "                                                                 \n",
      " dense_31 (Dense)            (None, 62)                7998      \n",
      "                                                                 \n",
      "=================================================================\n",
      "Total params: 7,400,318\n",
      "Trainable params: 7,400,318\n",
      "Non-trainable params: 0\n",
      "_________________________________________________________________\n"
     ]
    }
   ],
   "source": [
    "model = tf.keras.models.Sequential()\n",
    "\n",
    "model.add(tf.keras.layers.Input(shape=(image_width, image_height, 3)))\n",
    "\n",
    "model.add(tf.keras.layers.Conv2D(32, (3, 3), activation='relu',input_shape=input_shape))\n",
    "model.add(tf.keras.layers.MaxPooling2D((2, 2)))\n",
    "\n",
    "model.add(tf.keras.layers.Conv2D(64, (3, 3), activation='relu'))\n",
    "model.add(tf.keras.layers.MaxPooling2D((2, 2)))\n",
    "\n",
    "\n",
    "model.add(tf.keras.layers.Flatten())\n",
    "model.add(tf.keras.layers.Dense(128,activation='relu'))\n",
    "model.add(tf.keras.layers.Dense(num_class, activation='softmax'))\n",
    "\n",
    "model.compile(optimizer='adam',\n",
    "              loss='categorical_crossentropy',\n",
    "              metrics=['accuracy'])\n",
    "\n",
    "model.build()\n",
    "\n",
    "model.summary()\n",
    "\n",
    "callbacks = [tf.keras.callbacks.TensorBoard('./keras')]"
   ]
  },
  {
   "cell_type": "code",
   "execution_count": 94,
   "metadata": {},
   "outputs": [
    {
     "name": "stdout",
     "output_type": "stream",
     "text": [
      "Epoch 1/10\n",
      "1103/1103 [==============================] - 776s 702ms/step - loss: 6.6119 - accuracy: 0.6793 - val_loss: 0.7190 - val_accuracy: 0.8009\n",
      "Epoch 2/10\n",
      "1103/1103 [==============================] - 477s 432ms/step - loss: 0.4925 - accuracy: 0.8517 - val_loss: 0.6605 - val_accuracy: 0.8159\n",
      "Epoch 3/10\n",
      "1103/1103 [==============================] - 401s 364ms/step - loss: 0.3211 - accuracy: 0.9019 - val_loss: 0.7099 - val_accuracy: 0.8249\n"
     ]
    },
    {
     "data": {
      "text/plain": [
       "<keras.callbacks.History at 0x1b405013f10>"
      ]
     },
     "execution_count": 94,
     "metadata": {},
     "output_type": "execute_result"
    }
   ],
   "source": [
    "early_stop = keras.callbacks.EarlyStopping(patience=1, restore_best_weights=True)\n",
    "\n",
    "model.fit(train_generator, validation_data=val_generator, epochs=10, verbose=1, callbacks=early_stop)"
   ]
  },
  {
   "cell_type": "code",
   "execution_count": null,
   "metadata": {},
   "outputs": [],
   "source": [
    "model = tf.keras.models.Sequential()\n",
    "\n",
    "model.add(tf.keras.layers.Input(shape=(image_width, image_height, 3)))\n",
    "model.add(tf.keras.layers.Conv2D(32, (3, 3), activation='relu',input_shape=input_shape))\n",
    "model.add(tf.keras.layers.MaxPooling2D((2, 2)))\n",
    "model.add(tf.keras.layers.Conv2D(64, (3, 3), activation='relu'))\n",
    "model.add(tf.keras.layers.MaxPooling2D((2, 2)))\n",
    "\n",
    "\n",
    "model.add(tf.keras.layers.Flatten())\n",
    "model.add(tf.keras.layers.Dense(128,activation='relu'))\n",
    "model.add(tf.keras.layers.Dense(num_class, activation='softmax'))\n",
    "\n",
    "model.compile(optimizer='adam',\n",
    "              loss='categorical_crossentropy',\n",
    "              metrics=['accuracy'])\n",
    "\n",
    "early_stop = keras.callbacks.EarlyStopping(patience=1, restore_best_weights=True)\n",
    "\n",
    "model.fit(train_generator, validation_data=val_generator, epochs=10, verbose=1, callbacks=early_stop)"
   ]
  },
  {
   "cell_type": "markdown",
   "metadata": {},
   "source": [
    "So with 2 epoch, we have our base line  \n",
    "\n",
    "loss: 0.4925 - accuracy: 0.8517 - val_loss: 0.6605 - val_accuracy: 0.8159"
   ]
  },
  {
   "cell_type": "markdown",
   "metadata": {},
   "source": [
    "We have a great baseline, however training time was too high, let's reprocess our data to increase training performance"
   ]
  },
  {
   "cell_type": "markdown",
   "metadata": {},
   "source": [
    "# Dataset Variation"
   ]
  },
  {
   "cell_type": "markdown",
   "metadata": {},
   "source": [
    "## 64x64 Pixels"
   ]
  },
  {
   "cell_type": "markdown",
   "metadata": {},
   "source": [
    "We will use 3 dataset:  \n",
    "\n",
    "Train Dataset - 72%  \n",
    "Validation Dataset - 20%  \n",
    "Test Dataset - 8%"
   ]
  },
  {
   "cell_type": "code",
   "execution_count": 13,
   "metadata": {},
   "outputs": [],
   "source": [
    "batch_size = 32\n",
    "\n",
    "new_size = (64,64)\n",
    "\n",
    "num_class = 62"
   ]
  },
  {
   "cell_type": "code",
   "execution_count": 14,
   "metadata": {},
   "outputs": [],
   "source": [
    "raw_train_ds, val_ds = train_test_split(raw_ds_70, test_size=0.2, shuffle=True)\n",
    "\n",
    "train_ds, test_ds = train_test_split(raw_ds_70, test_size=0.1, shuffle=True)\n",
    "\n",
    "train_ds = train_ds.reset_index(drop=True)\n",
    "test_ds = test_ds.reset_index(drop=True)\n",
    "val_ds = val_ds.reset_index(drop=True)"
   ]
  },
  {
   "cell_type": "code",
   "execution_count": 18,
   "metadata": {},
   "outputs": [
    {
     "name": "stdout",
     "output_type": "stream",
     "text": [
      "Found 39684 validated image filenames belonging to 62 classes.\n",
      "Found 8819 validated image filenames belonging to 62 classes.\n",
      "Found 4410 validated image filenames belonging to 62 classes.\n"
     ]
    }
   ],
   "source": [
    "train_datagen = keras.preprocessing.image.ImageDataGenerator()\n",
    "\n",
    "train_generator = train_datagen.flow_from_dataframe(\n",
    "    train_ds,\n",
    "    x_col = 'filepaths',\n",
    "    y_col='Font',\n",
    "    target_size=new_size,\n",
    "    class_mode='categorical',\n",
    "    batch_size=batch_size,\n",
    "    rescale=1.0/255\n",
    "    )\n",
    "\n",
    "val_generator = train_datagen.flow_from_dataframe(\n",
    "    val_ds,\n",
    "    x_col = 'filepaths',\n",
    "    y_col='Font',\n",
    "    target_size=new_size,\n",
    "    class_mode='categorical',\n",
    "    batch_size=batch_size,\n",
    "    rescale=1.0/255.\n",
    ")\n",
    "\n",
    "test_generator = train_datagen.flow_from_dataframe(\n",
    "    test_ds,\n",
    "    x_col = 'filepaths',\n",
    "    y_col='Font',\n",
    "    target_size=new_size,\n",
    "    class_mode='categorical',\n",
    "    batch_size=batch_size,\n",
    "    rescale=1.0/255.\n",
    ")"
   ]
  },
  {
   "cell_type": "markdown",
   "metadata": {},
   "source": [
    "The first thing we will do is reduce the resolution of the images  \n",
    "\n",
    "They are 128x128 and i will test reduce first to 64x64 and if still perform well i will try reduce to 32x32 and evolve the performance"
   ]
  },
  {
   "cell_type": "code",
   "execution_count": 257,
   "metadata": {},
   "outputs": [
    {
     "name": "stderr",
     "output_type": "stream",
     "text": [
      "Clipping input data to the valid range for imshow with RGB data ([0..1] for floats or [0..255] for integers).\n"
     ]
    },
    {
     "name": "stdout",
     "output_type": "stream",
     "text": [
      "(64, 64, 3)\n"
     ]
    },
    {
     "data": {
      "text/plain": [
       "<matplotlib.image.AxesImage at 0x12eb02dc970>"
      ]
     },
     "execution_count": 257,
     "metadata": {},
     "output_type": "execute_result"
    },
    {
     "data": {
      "image/png": "[encoded data removed]",
      "text/plain": [
       "<Figure size 432x288 with 1 Axes>"
      ]
     },
     "metadata": {
      "needs_background": "light"
     },
     "output_type": "display_data"
    }
   ],
   "source": [
    "print(train_generator[0][0][0].shape)\n",
    "\n",
    "plt.imshow(train_generator[0][0][0])"
   ]
  },
  {
   "cell_type": "markdown",
   "metadata": {},
   "source": [
    "New Size ok, so let's run our model again and see how it performs"
   ]
  },
  {
   "cell_type": "code",
   "execution_count": 259,
   "metadata": {},
   "outputs": [],
   "source": [
    "new_input_shape = (64,64,3)"
   ]
  },
  {
   "cell_type": "code",
   "execution_count": 261,
   "metadata": {},
   "outputs": [
    {
     "name": "stdout",
     "output_type": "stream",
     "text": [
      "Model: \"sequential_141\"\n",
      "_________________________________________________________________\n",
      " Layer (type)                Output Shape              Param #   \n",
      "=================================================================\n",
      " conv2d_295 (Conv2D)         (None, 62, 62, 32)        896       \n",
      "                                                                 \n",
      " max_pooling2d_273 (MaxPooli  (None, 31, 31, 32)       0         \n",
      " ng2D)                                                           \n",
      "                                                                 \n",
      " conv2d_296 (Conv2D)         (None, 29, 29, 64)        18496     \n",
      "                                                                 \n",
      " max_pooling2d_274 (MaxPooli  (None, 14, 14, 64)       0         \n",
      " ng2D)                                                           \n",
      "                                                                 \n",
      " flatten_12 (Flatten)        (None, 12544)             0         \n",
      "                                                                 \n",
      " dense_25 (Dense)            (None, 128)               1605760   \n",
      "                                                                 \n",
      " dense_26 (Dense)            (None, 62)                7998      \n",
      "                                                                 \n",
      "=================================================================\n",
      "Total params: 1,633,150\n",
      "Trainable params: 1,633,150\n",
      "Non-trainable params: 0\n",
      "_________________________________________________________________\n",
      "Epoch 1/25\n",
      "1241/1241 [==============================] - 127s 102ms/step - loss: 2.5745 - accuracy: 0.6989 - val_loss: 0.5130 - val_accuracy: 0.8407\n",
      "Epoch 2/25\n",
      "1241/1241 [==============================] - 112s 90ms/step - loss: 0.5106 - accuracy: 0.8396 - val_loss: 0.3574 - val_accuracy: 0.8801\n",
      "Epoch 3/25\n",
      "1241/1241 [==============================] - 113s 91ms/step - loss: 0.3736 - accuracy: 0.8717 - val_loss: 0.2923 - val_accuracy: 0.9001\n",
      "Epoch 4/25\n",
      "1241/1241 [==============================] - 113s 91ms/step - loss: 0.2999 - accuracy: 0.8952 - val_loss: 0.2839 - val_accuracy: 0.8994\n",
      "Epoch 5/25\n",
      "1241/1241 [==============================] - 113s 91ms/step - loss: 0.2545 - accuracy: 0.9087 - val_loss: 0.2574 - val_accuracy: 0.9118\n",
      "Epoch 6/25\n",
      "1241/1241 [==============================] - 115s 93ms/step - loss: 0.2334 - accuracy: 0.9154 - val_loss: 0.2282 - val_accuracy: 0.9229\n",
      "Epoch 7/25\n",
      "1241/1241 [==============================] - 113s 91ms/step - loss: 0.2186 - accuracy: 0.9237 - val_loss: 0.1986 - val_accuracy: 0.9358\n",
      "Epoch 8/25\n",
      "1241/1241 [==============================] - 113s 91ms/step - loss: 0.1966 - accuracy: 0.9286 - val_loss: 0.1870 - val_accuracy: 0.9402\n",
      "Epoch 9/25\n",
      "1241/1241 [==============================] - 113s 91ms/step - loss: 0.1670 - accuracy: 0.9406 - val_loss: 0.1781 - val_accuracy: 0.9475\n",
      "Epoch 10/25\n",
      "1241/1241 [==============================] - 113s 91ms/step - loss: 0.1624 - accuracy: 0.9433 - val_loss: 0.2244 - val_accuracy: 0.9283\n",
      "Epoch 11/25\n",
      "1241/1241 [==============================] - 113s 91ms/step - loss: 0.1567 - accuracy: 0.9473 - val_loss: 0.1613 - val_accuracy: 0.9528\n",
      "Epoch 12/25\n",
      "1241/1241 [==============================] - 114s 92ms/step - loss: 0.1330 - accuracy: 0.9522 - val_loss: 0.1646 - val_accuracy: 0.9510\n",
      "Epoch 13/25\n",
      "1241/1241 [==============================] - 104s 84ms/step - loss: 0.1315 - accuracy: 0.9542 - val_loss: 0.1846 - val_accuracy: 0.9466\n",
      "Epoch 14/25\n",
      "1241/1241 [==============================] - 102s 82ms/step - loss: 0.1336 - accuracy: 0.9549 - val_loss: 0.1418 - val_accuracy: 0.9609\n",
      "Epoch 15/25\n",
      "1241/1241 [==============================] - 102s 82ms/step - loss: 0.1065 - accuracy: 0.9622 - val_loss: 0.1613 - val_accuracy: 0.9591\n",
      "Epoch 16/25\n",
      "1241/1241 [==============================] - 102s 82ms/step - loss: 0.1175 - accuracy: 0.9608 - val_loss: 0.1701 - val_accuracy: 0.9556\n",
      "Epoch 17/25\n",
      "1241/1241 [==============================] - 102s 82ms/step - loss: 0.1120 - accuracy: 0.9628 - val_loss: 0.1326 - val_accuracy: 0.9644\n",
      "Epoch 18/25\n",
      "1241/1241 [==============================] - 103s 83ms/step - loss: 0.0965 - accuracy: 0.9678 - val_loss: 0.1590 - val_accuracy: 0.9611\n",
      "Epoch 19/25\n",
      "1241/1241 [==============================] - 102s 83ms/step - loss: 0.0958 - accuracy: 0.9669 - val_loss: 0.1632 - val_accuracy: 0.9570\n",
      "Epoch 20/25\n",
      "1241/1241 [==============================] - 103s 83ms/step - loss: 0.1044 - accuracy: 0.9663 - val_loss: 0.1433 - val_accuracy: 0.9642\n"
     ]
    },
    {
     "data": {
      "text/plain": [
       "<keras.callbacks.History at 0x12eb0354400>"
      ]
     },
     "execution_count": 261,
     "metadata": {},
     "output_type": "execute_result"
    }
   ],
   "source": [
    "model_64x64_raw = tf.keras.models.Sequential()\n",
    "\n",
    "model_64x64_raw.add(tf.keras.layers.Conv2D(32, (3, 3), activation='relu',input_shape=new_input_shape))\n",
    "model_64x64_raw.add(tf.keras.layers.MaxPooling2D((2, 2)))\n",
    "\n",
    "model_64x64_raw.add(tf.keras.layers.Conv2D(64, (3, 3), activation='relu'))\n",
    "model_64x64_raw.add(tf.keras.layers.MaxPooling2D((2, 2)))\n",
    "\n",
    "\n",
    "model_64x64_raw.add(tf.keras.layers.Flatten())\n",
    "\n",
    "\n",
    "model_64x64_raw.add(tf.keras.layers.Dense(128,activation='relu'))\n",
    "model_64x64_raw.add(tf.keras.layers.Dense(num_class, activation='softmax'))\n",
    "\n",
    "model_64x64_raw.compile(optimizer='adam',\n",
    "              loss='categorical_crossentropy',\n",
    "              metrics=['accuracy'])\n",
    "\n",
    "model_64x64_raw.build()\n",
    "\n",
    "model_64x64_raw.summary()\n",
    "\n",
    "early_stop = keras.callbacks.EarlyStopping(patience=3, restore_best_weights=True)\n",
    "\n",
    "model_64x64_raw.fit(train_generator, validation_data=val_generator, epochs=25, verbose=1, callbacks=early_stop)"
   ]
  },
  {
   "cell_type": "code",
   "execution_count": 269,
   "metadata": {},
   "outputs": [
    {
     "name": "stdout",
     "output_type": "stream",
     "text": [
      "138/138 [==============================] - 4s 29ms/step - loss: 0.1105 - accuracy: 0.9667\n"
     ]
    },
    {
     "data": {
      "text/plain": [
       "[0.11049678176641464, 0.9666666388511658]"
      ]
     },
     "execution_count": 269,
     "metadata": {},
     "output_type": "execute_result"
    }
   ],
   "source": [
    "model_64x64_raw.evaluate(test_generator)"
   ]
  },
  {
   "cell_type": "code",
   "execution_count": 276,
   "metadata": {},
   "outputs": [],
   "source": [
    "model_64x64_raw.save(r'\\modelo.h5')"
   ]
  },
  {
   "cell_type": "markdown",
   "metadata": {},
   "source": [
    "It was better than i was expecting lol, all the 18 epochs toke 40 minutes, but our base line toke 30 minutes to run 3 epochs"
   ]
  },
  {
   "cell_type": "markdown",
   "metadata": {},
   "source": [
    "And our better results was:  \n",
    "\n",
    "Epoch 15/25\n",
    "147s 118ms/step - loss: 0.1036 - accuracy: 0.9646 - val_loss: 0.1520 - val_accuracy: 0.9605  \n",
    "\n",
    "Test Score:  \n",
    "loss: 0.1105 - accuracy: 0.9667"
   ]
  },
  {
   "cell_type": "markdown",
   "metadata": {},
   "source": [
    "And this a really good result, but before we tunnig the model, let's check whats happening with the performance of our model if I reduce the image size to 32x32 pixels"
   ]
  },
  {
   "cell_type": "markdown",
   "metadata": {},
   "source": [
    "## 32x32 Pixels"
   ]
  },
  {
   "cell_type": "code",
   "execution_count": 230,
   "metadata": {},
   "outputs": [],
   "source": [
    "new_size = (32,32)"
   ]
  },
  {
   "cell_type": "code",
   "execution_count": 231,
   "metadata": {},
   "outputs": [
    {
     "name": "stdout",
     "output_type": "stream",
     "text": [
      "Found 39684 validated image filenames belonging to 62 classes.\n",
      "Found 8819 validated image filenames belonging to 62 classes.\n",
      "Found 4410 validated image filenames belonging to 62 classes.\n"
     ]
    }
   ],
   "source": [
    "train_datagen = keras.preprocessing.image.ImageDataGenerator()\n",
    "\n",
    "train_generator = train_datagen.flow_from_dataframe(\n",
    "    train_ds,\n",
    "    x_col = 'filepaths',\n",
    "    y_col='Font',\n",
    "    target_size=new_size,\n",
    "    class_mode='categorical',\n",
    "    batch_size=batch_size,\n",
    "    rescale=1.0/255\n",
    "    )\n",
    "\n",
    "val_generator = train_datagen.flow_from_dataframe(\n",
    "    val_ds,\n",
    "    x_col = 'filepaths',\n",
    "    y_col='Font',\n",
    "    target_size=new_size,\n",
    "    class_mode='categorical',\n",
    "    batch_size=batch_size,\n",
    "    rescale=1.0/255.\n",
    ")\n",
    "\n",
    "test_generator = train_datagen.flow_from_dataframe(\n",
    "    test_ds,\n",
    "    x_col = 'filepaths',\n",
    "    y_col='Font',\n",
    "    target_size=new_size,\n",
    "    class_mode='categorical',\n",
    "    batch_size=batch_size,\n",
    "    rescale=1.0/255.\n",
    ")"
   ]
  },
  {
   "cell_type": "code",
   "execution_count": 232,
   "metadata": {},
   "outputs": [
    {
     "name": "stderr",
     "output_type": "stream",
     "text": [
      "Clipping input data to the valid range for imshow with RGB data ([0..1] for floats or [0..255] for integers).\n"
     ]
    },
    {
     "name": "stdout",
     "output_type": "stream",
     "text": [
      "(32, 32, 3)\n"
     ]
    },
    {
     "data": {
      "text/plain": [
       "<matplotlib.image.AxesImage at 0x12eafc19870>"
      ]
     },
     "execution_count": 232,
     "metadata": {},
     "output_type": "execute_result"
    },
    {
     "data": {
      "image/png": "[encoded data removed]",
      "text/plain": [
       "<Figure size 432x288 with 1 Axes>"
      ]
     },
     "metadata": {
      "needs_background": "light"
     },
     "output_type": "display_data"
    }
   ],
   "source": [
    "print(train_generator[0][0][0].shape)\n",
    "\n",
    "plt.imshow(train_generator[0][0][0])"
   ]
  },
  {
   "cell_type": "markdown",
   "metadata": {},
   "source": [
    "We can see a deterioration in our images"
   ]
  },
  {
   "cell_type": "code",
   "execution_count": 233,
   "metadata": {},
   "outputs": [],
   "source": [
    "new_input_shape = (32,32,3)"
   ]
  },
  {
   "cell_type": "markdown",
   "metadata": {},
   "source": [
    "Let's use the same model"
   ]
  },
  {
   "cell_type": "code",
   "execution_count": 235,
   "metadata": {},
   "outputs": [
    {
     "name": "stdout",
     "output_type": "stream",
     "text": [
      "Model: \"sequential_131\"\n",
      "_________________________________________________________________\n",
      " Layer (type)                Output Shape              Param #   \n",
      "=================================================================\n",
      " conv2d_274 (Conv2D)         (None, 30, 30, 32)        896       \n",
      "                                                                 \n",
      " max_pooling2d_252 (MaxPooli  (None, 15, 15, 32)       0         \n",
      " ng2D)                                                           \n",
      "                                                                 \n",
      " conv2d_275 (Conv2D)         (None, 13, 13, 64)        18496     \n",
      "                                                                 \n",
      " max_pooling2d_253 (MaxPooli  (None, 6, 6, 64)         0         \n",
      " ng2D)                                                           \n",
      "                                                                 \n",
      " flatten_2 (Flatten)         (None, 2304)              0         \n",
      "                                                                 \n",
      " dense_4 (Dense)             (None, 128)               295040    \n",
      "                                                                 \n",
      " dense_5 (Dense)             (None, 62)                7998      \n",
      "                                                                 \n",
      "=================================================================\n",
      "Total params: 322,430\n",
      "Trainable params: 322,430\n",
      "Non-trainable params: 0\n",
      "_________________________________________________________________\n",
      "Epoch 1/50\n",
      "1241/1241 [==============================] - 66s 52ms/step - loss: 1.8548 - accuracy: 0.6678 - val_loss: 0.6178 - val_accuracy: 0.8100\n",
      "Epoch 2/50\n",
      "1241/1241 [==============================] - 63s 51ms/step - loss: 0.5944 - accuracy: 0.8110 - val_loss: 0.4793 - val_accuracy: 0.8381\n",
      "Epoch 3/50\n",
      "1241/1241 [==============================] - 65s 52ms/step - loss: 0.4822 - accuracy: 0.8393 - val_loss: 0.3857 - val_accuracy: 0.8623\n",
      "Epoch 4/50\n",
      "1241/1241 [==============================] - 60s 48ms/step - loss: 0.4291 - accuracy: 0.8509 - val_loss: 0.3685 - val_accuracy: 0.8725\n",
      "Epoch 5/50\n",
      "1241/1241 [==============================] - 61s 49ms/step - loss: 0.3929 - accuracy: 0.8629 - val_loss: 0.3255 - val_accuracy: 0.8854\n",
      "Epoch 6/50\n",
      "1241/1241 [==============================] - 57s 46ms/step - loss: 0.3588 - accuracy: 0.8710 - val_loss: 0.3020 - val_accuracy: 0.8917\n",
      "Epoch 7/50\n",
      "1241/1241 [==============================] - 54s 43ms/step - loss: 0.3325 - accuracy: 0.8825 - val_loss: 0.2917 - val_accuracy: 0.8966\n",
      "Epoch 8/50\n",
      "1241/1241 [==============================] - 58s 47ms/step - loss: 0.3041 - accuracy: 0.8875 - val_loss: 0.2943 - val_accuracy: 0.8978\n",
      "Epoch 9/50\n",
      "1241/1241 [==============================] - 60s 49ms/step - loss: 0.2911 - accuracy: 0.8928 - val_loss: 0.2688 - val_accuracy: 0.8993\n",
      "Epoch 10/50\n",
      "1241/1241 [==============================] - 59s 47ms/step - loss: 0.2759 - accuracy: 0.8990 - val_loss: 0.2998 - val_accuracy: 0.8931\n",
      "Epoch 11/50\n",
      "1241/1241 [==============================] - 58s 47ms/step - loss: 0.2596 - accuracy: 0.9036 - val_loss: 0.2505 - val_accuracy: 0.9067\n",
      "Epoch 12/50\n",
      "1241/1241 [==============================] - 60s 49ms/step - loss: 0.2380 - accuracy: 0.9106 - val_loss: 0.2283 - val_accuracy: 0.9185\n",
      "Epoch 13/50\n",
      "1241/1241 [==============================] - 57s 46ms/step - loss: 0.2364 - accuracy: 0.9139 - val_loss: 0.2456 - val_accuracy: 0.9150\n",
      "Epoch 14/50\n",
      "1241/1241 [==============================] - 55s 44ms/step - loss: 0.2213 - accuracy: 0.9182 - val_loss: 0.2315 - val_accuracy: 0.9202\n",
      "Epoch 15/50\n",
      "1241/1241 [==============================] - 56s 45ms/step - loss: 0.2123 - accuracy: 0.9222 - val_loss: 0.2513 - val_accuracy: 0.9151\n"
     ]
    },
    {
     "data": {
      "text/plain": [
       "<keras.callbacks.History at 0x12eb3b18850>"
      ]
     },
     "execution_count": 235,
     "metadata": {},
     "output_type": "execute_result"
    }
   ],
   "source": [
    "model_32_x_32 = tf.keras.models.Sequential()\n",
    "\n",
    "model_32_x_32.add(tf.keras.layers.Conv2D(32, (3, 3), activation='relu',input_shape=new_input_shape))\n",
    "model_32_x_32.add(tf.keras.layers.MaxPooling2D((2, 2)))\n",
    "\n",
    "model_32_x_32.add(tf.keras.layers.Conv2D(64, (3, 3), activation='relu'))\n",
    "model_32_x_32.add(tf.keras.layers.MaxPooling2D((2, 2)))\n",
    "\n",
    "\n",
    "model_32_x_32.add(tf.keras.layers.Flatten())\n",
    "\n",
    "model_32_x_32.add(tf.keras.layers.Dense(128,activation='relu'))\n",
    "model_32_x_32.add(tf.keras.layers.Dense(num_class, activation='softmax'))\n",
    "\n",
    "model_32_x_32.compile(optimizer='adam',\n",
    "              loss='categorical_crossentropy',\n",
    "              metrics=['accuracy'])\n",
    "\n",
    "model_32_x_32.build()\n",
    "\n",
    "model_32_x_32.summary()\n",
    "\n",
    "early_stop = keras.callbacks.EarlyStopping(patience=3, restore_best_weights=True)\n",
    "\n",
    "model_32_x_32.fit(train_generator, validation_data=val_generator, epochs=50, verbose=1, callbacks=early_stop)"
   ]
  },
  {
   "cell_type": "markdown",
   "metadata": {},
   "source": [
    "Epoch 12/50\n",
    "1241/1241 [==============================] - 60s 49ms/step - loss: 0.2380 - accuracy: 0.9106 - val_loss: 0.2283 - val_accuracy: 0.9185"
   ]
  },
  {
   "cell_type": "markdown",
   "metadata": {},
   "source": [
    "It took 15 minutes to run 15 epochs, honestly its not a bat result, because i used a model created for 128x128 image and trenined with 32x32 image, so changing some layers of the model it can perform better, but how the 64x64 was very good in training time, I will use this configuration on final model "
   ]
  },
  {
   "cell_type": "markdown",
   "metadata": {},
   "source": [
    "## Tunnig the model"
   ]
  },
  {
   "cell_type": "code",
   "execution_count": 262,
   "metadata": {},
   "outputs": [],
   "source": [
    "batch_size = 32\n",
    "\n",
    "new_size = (64,64)\n",
    "\n",
    "num_class = 62"
   ]
  },
  {
   "cell_type": "code",
   "execution_count": 263,
   "metadata": {},
   "outputs": [],
   "source": [
    "raw_train_ds, val_ds = train_test_split(raw_ds_70, test_size=0.2, shuffle=True)\n",
    "\n",
    "train_ds, test_ds = train_test_split(raw_ds_70, test_size=0.1, shuffle=True)\n",
    "\n",
    "train_ds = train_ds.reset_index(drop=True)\n",
    "test_ds = test_ds.reset_index(drop=True)\n",
    "val_ds = val_ds.reset_index(drop=True)"
   ]
  },
  {
   "cell_type": "code",
   "execution_count": 264,
   "metadata": {},
   "outputs": [
    {
     "name": "stdout",
     "output_type": "stream",
     "text": [
      "Found 39684 validated image filenames belonging to 62 classes.\n",
      "Found 8819 validated image filenames belonging to 62 classes.\n",
      "Found 4410 validated image filenames belonging to 62 classes.\n"
     ]
    }
   ],
   "source": [
    "train_datagen = keras.preprocessing.image.ImageDataGenerator()\n",
    "\n",
    "train_generator = train_datagen.flow_from_dataframe(\n",
    "    train_ds,\n",
    "    x_col = 'filepaths',\n",
    "    y_col='Font',\n",
    "    target_size=new_size,\n",
    "    class_mode='categorical',\n",
    "    batch_size=batch_size,\n",
    "    rescale=1.0/255\n",
    "    )\n",
    "\n",
    "val_generator = train_datagen.flow_from_dataframe(\n",
    "    val_ds,\n",
    "    x_col = 'filepaths',\n",
    "    y_col='Font',\n",
    "    target_size=new_size,\n",
    "    class_mode='categorical',\n",
    "    batch_size=batch_size,\n",
    "    rescale=1.0/255.\n",
    ")\n",
    "\n",
    "test_generator = train_datagen.flow_from_dataframe(\n",
    "    test_ds,\n",
    "    x_col = 'filepaths',\n",
    "    y_col='Font',\n",
    "    target_size=new_size,\n",
    "    class_mode='categorical',\n",
    "    batch_size=batch_size,\n",
    "    rescale=1.0/255.\n",
    ")"
   ]
  },
  {
   "cell_type": "code",
   "execution_count": 265,
   "metadata": {},
   "outputs": [
    {
     "name": "stderr",
     "output_type": "stream",
     "text": [
      "Clipping input data to the valid range for imshow with RGB data ([0..1] for floats or [0..255] for integers).\n"
     ]
    },
    {
     "name": "stdout",
     "output_type": "stream",
     "text": [
      "(64, 64, 3)\n"
     ]
    },
    {
     "data": {
      "text/plain": [
       "<matplotlib.image.AxesImage at 0x12eaf1589d0>"
      ]
     },
     "execution_count": 265,
     "metadata": {},
     "output_type": "execute_result"
    },
    {
     "data": {
      "image/png": "[encoded data removed]",
      "text/plain": [
       "<Figure size 432x288 with 1 Axes>"
      ]
     },
     "metadata": {
      "needs_background": "light"
     },
     "output_type": "display_data"
    }
   ],
   "source": [
    "print(train_generator[0][0][0].shape)\n",
    "\n",
    "plt.imshow(train_generator[0][0][0])"
   ]
  },
  {
   "cell_type": "code",
   "execution_count": 266,
   "metadata": {},
   "outputs": [],
   "source": [
    "new_input_shape = (64,64,3)"
   ]
  },
  {
   "cell_type": "markdown",
   "metadata": {},
   "source": [
    "mesmo que o modelo esteja treinando relativamente rapido, para o tunning eu vou fixar o numero de epocas em 10 e comparar com a mesma epoca do modelo original, e eu vou continuar usando o EarlyStopping \n",
    "\n",
    "Our Baseline:  \n",
    "\n",
    "Epoch 10/25:  \n",
    "116s 94ms/step - loss: 0.1493 - accuracy: 0.9476 - val_loss: 0.1753 - val_accuracy: 0.9460"
   ]
  },
  {
   "cell_type": "code",
   "execution_count": 270,
   "metadata": {},
   "outputs": [
    {
     "name": "stdout",
     "output_type": "stream",
     "text": [
      "Model: \"sequential_143\"\n",
      "_________________________________________________________________\n",
      " Layer (type)                Output Shape              Param #   \n",
      "=================================================================\n",
      " conv2d_299 (Conv2D)         (None, 62, 62, 32)        896       \n",
      "                                                                 \n",
      " max_pooling2d_277 (MaxPooli  (None, 31, 31, 32)       0         \n",
      " ng2D)                                                           \n",
      "                                                                 \n",
      " conv2d_300 (Conv2D)         (None, 29, 29, 64)        18496     \n",
      "                                                                 \n",
      " max_pooling2d_278 (MaxPooli  (None, 14, 14, 64)       0         \n",
      " ng2D)                                                           \n",
      "                                                                 \n",
      " flatten_14 (Flatten)        (None, 12544)             0         \n",
      "                                                                 \n",
      " dense_29 (Dense)            (None, 128)               1605760   \n",
      "                                                                 \n",
      " dropout_3 (Dropout)         (None, 128)               0         \n",
      "                                                                 \n",
      " dense_30 (Dense)            (None, 62)                7998      \n",
      "                                                                 \n",
      "=================================================================\n",
      "Total params: 1,633,150\n",
      "Trainable params: 1,633,150\n",
      "Non-trainable params: 0\n",
      "_________________________________________________________________\n",
      "Epoch 1/50\n",
      "1241/1241 [==============================] - 417s 335ms/step - loss: 3.7428 - accuracy: 0.2703 - val_loss: 1.1237 - val_accuracy: 0.7115\n",
      "Epoch 2/50\n",
      "1241/1241 [==============================] - 152s 122ms/step - loss: 1.4669 - accuracy: 0.5849 - val_loss: 0.6774 - val_accuracy: 0.7877\n",
      "Epoch 3/50\n",
      "1241/1241 [==============================] - 136s 110ms/step - loss: 1.0405 - accuracy: 0.6880 - val_loss: 0.5314 - val_accuracy: 0.8332\n",
      "Epoch 4/50\n",
      "1241/1241 [==============================] - 129s 104ms/step - loss: 0.8512 - accuracy: 0.7352 - val_loss: 0.4504 - val_accuracy: 0.8520\n",
      "Epoch 5/50\n",
      "1241/1241 [==============================] - 139s 112ms/step - loss: 0.7375 - accuracy: 0.7591 - val_loss: 0.4061 - val_accuracy: 0.8614\n",
      "Epoch 6/50\n",
      "1241/1241 [==============================] - 148s 120ms/step - loss: 0.6817 - accuracy: 0.7809 - val_loss: 0.3891 - val_accuracy: 0.8651\n",
      "Epoch 7/50\n",
      "1241/1241 [==============================] - 142s 114ms/step - loss: 0.6138 - accuracy: 0.7969 - val_loss: 0.3306 - val_accuracy: 0.8829\n",
      "Epoch 8/50\n",
      "1241/1241 [==============================] - 158s 127ms/step - loss: 0.5624 - accuracy: 0.8074 - val_loss: 0.2976 - val_accuracy: 0.8950\n",
      "Epoch 9/50\n",
      "1241/1241 [==============================] - 144s 116ms/step - loss: 0.5363 - accuracy: 0.8188 - val_loss: 0.2920 - val_accuracy: 0.9003\n",
      "Epoch 10/50\n",
      "1241/1241 [==============================] - 149s 120ms/step - loss: 0.4965 - accuracy: 0.8324 - val_loss: 0.2560 - val_accuracy: 0.9100\n",
      "Epoch 11/50\n",
      "1241/1241 [==============================] - 136s 110ms/step - loss: 0.4609 - accuracy: 0.8404 - val_loss: 0.2586 - val_accuracy: 0.9059\n",
      "Epoch 12/50\n",
      "1241/1241 [==============================] - 136s 109ms/step - loss: 0.4529 - accuracy: 0.8425 - val_loss: 0.2302 - val_accuracy: 0.9165\n",
      "Epoch 13/50\n",
      "1241/1241 [==============================] - 122s 98ms/step - loss: 0.4270 - accuracy: 0.8501 - val_loss: 0.2466 - val_accuracy: 0.9131\n",
      "Epoch 14/50\n",
      "1241/1241 [==============================] - 123s 99ms/step - loss: 0.4223 - accuracy: 0.8550 - val_loss: 0.2209 - val_accuracy: 0.9213\n",
      "Epoch 15/50\n",
      "1241/1241 [==============================] - 136s 110ms/step - loss: 0.4036 - accuracy: 0.8598 - val_loss: 0.2201 - val_accuracy: 0.9229\n",
      "Epoch 16/50\n",
      "1241/1241 [==============================] - 134s 108ms/step - loss: 0.3887 - accuracy: 0.8643 - val_loss: 0.2015 - val_accuracy: 0.9306\n",
      "Epoch 17/50\n",
      "1241/1241 [==============================] - 131s 106ms/step - loss: 0.3757 - accuracy: 0.8688 - val_loss: 0.1826 - val_accuracy: 0.9321\n",
      "Epoch 18/50\n",
      "1241/1241 [==============================] - 131s 105ms/step - loss: 0.3638 - accuracy: 0.8728 - val_loss: 0.1821 - val_accuracy: 0.9376\n",
      "Epoch 19/50\n",
      "1241/1241 [==============================] - 126s 102ms/step - loss: 0.3588 - accuracy: 0.8761 - val_loss: 0.1716 - val_accuracy: 0.9377\n",
      "Epoch 20/50\n",
      "1241/1241 [==============================] - 133s 107ms/step - loss: 0.3530 - accuracy: 0.8799 - val_loss: 0.1961 - val_accuracy: 0.9322\n",
      "Epoch 21/50\n",
      "1241/1241 [==============================] - 140s 113ms/step - loss: 0.3485 - accuracy: 0.8794 - val_loss: 0.1884 - val_accuracy: 0.9359\n",
      "Epoch 22/50\n",
      "1241/1241 [==============================] - 135s 109ms/step - loss: 0.3298 - accuracy: 0.8852 - val_loss: 0.1765 - val_accuracy: 0.9379\n"
     ]
    },
    {
     "data": {
      "text/plain": [
       "<keras.callbacks.History at 0x12eaff27820>"
      ]
     },
     "execution_count": 270,
     "metadata": {},
     "output_type": "execute_result"
    }
   ],
   "source": [
    "model_64x64_Final = tf.keras.models.Sequential()\n",
    "\n",
    "model_64x64_Final.add(tf.keras.layers.Conv2D(32, (3, 3), activation='relu',input_shape=new_input_shape))\n",
    "model_64x64_Final.add(tf.keras.layers.MaxPooling2D((2, 2)))\n",
    "\n",
    "model_64x64_Final.add(tf.keras.layers.Conv2D(64, (3, 3), activation='relu'))\n",
    "model_64x64_Final.add(tf.keras.layers.MaxPooling2D((2, 2)))\n",
    "\n",
    "\n",
    "model_64x64_Final.add(tf.keras.layers.Flatten())\n",
    "\n",
    "\n",
    "model_64x64_Final.add(tf.keras.layers.Dense(128, activation='relu'))\n",
    "model_64x64_Final.add(tf.keras.layers.Dropout(0.5))\n",
    "\n",
    "\n",
    "model_64x64_Final.add(tf.keras.layers.Dense(num_class, activation='softmax'))\n",
    "\n",
    "model_64x64_Final.compile(optimizer='Adam',\n",
    "              loss='categorical_crossentropy',\n",
    "              metrics=['accuracy'])\n",
    "\n",
    "model_64x64_Final.build()\n",
    "\n",
    "model_64x64_Final.summary()\n",
    "\n",
    "early_stop = keras.callbacks.EarlyStopping(patience=3, restore_best_weights=True)\n",
    "\n",
    "model_64x64_Final.fit(train_generator, validation_data=val_generator, epochs=50, verbose=1, callbacks=early_stop)"
   ]
  },
  {
   "cell_type": "code",
   "execution_count": 271,
   "metadata": {},
   "outputs": [
    {
     "name": "stdout",
     "output_type": "stream",
     "text": [
      "138/138 [==============================] - 37s 266ms/step - loss: 0.4396 - accuracy: 0.8712\n"
     ]
    },
    {
     "data": {
      "text/plain": [
       "[0.4396379590034485, 0.8712018132209778]"
      ]
     },
     "execution_count": 271,
     "metadata": {},
     "output_type": "execute_result"
    }
   ],
   "source": [
    "model_64x64_Final.evaluate(test_generator)"
   ]
  },
  {
   "cell_type": "markdown",
   "metadata": {},
   "source": [
    "# Test Model"
   ]
  },
  {
   "cell_type": "code",
   "execution_count": 24,
   "metadata": {},
   "outputs": [
    {
     "data": {
      "text/plain": [
       "{'0': 0,\n",
       " '1': 1,\n",
       " '2': 2,\n",
       " '3': 3,\n",
       " '4': 4,\n",
       " '5': 5,\n",
       " '6': 6,\n",
       " '7': 7,\n",
       " '8': 8,\n",
       " '9': 9,\n",
       " 'A': 10,\n",
       " 'B': 11,\n",
       " 'C': 12,\n",
       " 'D': 13,\n",
       " 'E': 14,\n",
       " 'F': 15,\n",
       " 'G': 16,\n",
       " 'H': 17,\n",
       " 'I': 18,\n",
       " 'J': 19,\n",
       " 'K': 20,\n",
       " 'L': 21,\n",
       " 'M': 22,\n",
       " 'N': 23,\n",
       " 'O': 24,\n",
       " 'P': 25,\n",
       " 'Q': 26,\n",
       " 'R': 27,\n",
       " 'S': 28,\n",
       " 'T': 29,\n",
       " 'U': 30,\n",
       " 'V': 31,\n",
       " 'W': 32,\n",
       " 'X': 33,\n",
       " 'Y': 34,\n",
       " 'Z': 35,\n",
       " 'a': 36,\n",
       " 'b': 37,\n",
       " 'c': 38,\n",
       " 'd': 39,\n",
       " 'e': 40,\n",
       " 'f': 41,\n",
       " 'g': 42,\n",
       " 'h': 43,\n",
       " 'i': 44,\n",
       " 'j': 45,\n",
       " 'k': 46,\n",
       " 'l': 47,\n",
       " 'm': 48,\n",
       " 'n': 49,\n",
       " 'o': 50,\n",
       " 'p': 51,\n",
       " 'q': 52,\n",
       " 'r': 53,\n",
       " 's': 54,\n",
       " 't': 55,\n",
       " 'u': 56,\n",
       " 'v': 57,\n",
       " 'w': 58,\n",
       " 'x': 59,\n",
       " 'y': 60,\n",
       " 'z': 61}"
      ]
     },
     "execution_count": 24,
     "metadata": {},
     "output_type": "execute_result"
    }
   ],
   "source": [
    "label = train_generator.class_indices\n",
    "\n",
    "label"
   ]
  },
  {
   "cell_type": "code",
   "execution_count": 45,
   "metadata": {},
   "outputs": [
    {
     "name": "stderr",
     "output_type": "stream",
     "text": [
      "Clipping input data to the valid range for imshow with RGB data ([0..1] for floats or [0..255] for integers).\n"
     ]
    },
    {
     "name": "stdout",
     "output_type": "stream",
     "text": [
      "(64, 64, 3)\n"
     ]
    },
    {
     "data": {
      "text/plain": [
       "<matplotlib.image.AxesImage at 0x23644e82ef0>"
      ]
     },
     "execution_count": 45,
     "metadata": {},
     "output_type": "execute_result"
    },
    {
     "data": {
      "image/png": "[encoded data removed]",
      "text/plain": [
       "<Figure size 432x288 with 1 Axes>"
      ]
     },
     "metadata": {
      "needs_background": "light"
     },
     "output_type": "display_data"
    }
   ],
   "source": [
    "image_test = train_generator[0][0][0]\n",
    "\n",
    "print(image_test.shape)\n",
    "\n",
    "plt.imshow(image_test)"
   ]
  },
  {
   "cell_type": "code",
   "execution_count": 172,
   "metadata": {},
   "outputs": [
    {
     "data": {
      "text/plain": [
       "<matplotlib.image.AxesImage at 0x2364106d870>"
      ]
     },
     "execution_count": 172,
     "metadata": {},
     "output_type": "execute_result"
    },
    {
     "data": {
      "image/png": "[encoded data removed]",
      "text/plain": [
       "<Figure size 432x288 with 1 Axes>"
      ]
     },
     "metadata": {
      "needs_background": "light"
     },
     "output_type": "display_data"
    }
   ],
   "source": [
    "# Carregue a imagem de 500x500 pixels (substitua pelo seu caminho da imagem)\n",
    "image_path = r'\\english-fontnumber-recognition\\Font\\Font\\Sample005\\img005-00006.png'\n",
    "image = cv2.imread(image_path)\n",
    "\n",
    "# Redimensione a imagem para 64x64 pixels\n",
    "target_size = (64, 64)\n",
    "resized_image_4 = cv2.resize(image, target_size)\n",
    "\n",
    "plt.imshow(resized_image_4[:, :, 0])"
   ]
  },
  {
   "cell_type": "code",
   "execution_count": 285,
   "metadata": {},
   "outputs": [
    {
     "name": "stdout",
     "output_type": "stream",
     "text": [
      "(64, 64, 4)\n"
     ]
    },
    {
     "data": {
      "text/plain": [
       "<matplotlib.image.AxesImage at 0x2366349f520>"
      ]
     },
     "execution_count": 285,
     "metadata": {},
     "output_type": "execute_result"
    },
    {
     "data": {
      "image/png": "[encoded data removed]",
      "text/plain": [
       "<Figure size 432x288 with 1 Axes>"
      ]
     },
     "metadata": {
      "needs_background": "light"
     },
     "output_type": "display_data"
    }
   ],
   "source": [
    "image_path = r'\\desenho.png'\n",
    "target_size = (64, 64)\n",
    "\n",
    "image = iio.imread(image_path)\n",
    "\n",
    "resized_image = cv2.resize(image, target_size)\n",
    "\n",
    "print(resized_image.shape)\n",
    "\n",
    "image_number = 255 - resized_image[:, :, 3]\n",
    "\n",
    "plt.imshow(image_number)"
   ]
  },
  {
   "cell_type": "code",
   "execution_count": 286,
   "metadata": {},
   "outputs": [
    {
     "data": {
      "text/plain": [
       "<matplotlib.image.AxesImage at 0x2366353fc10>"
      ]
     },
     "execution_count": 286,
     "metadata": {},
     "output_type": "execute_result"
    },
    {
     "data": {
      "image/png": "[encoded data removed]",
      "text/plain": [
       "<Figure size 432x288 with 1 Axes>"
      ]
     },
     "metadata": {
      "needs_background": "light"
     },
     "output_type": "display_data"
    }
   ],
   "source": [
    "image_number\n",
    "\n",
    "fundo_rgb = np.zeros((64, 64, 3), dtype=np.uint8)\n",
    "\n",
    "fundo_rgb[:, :, 0] = image_number\n",
    "fundo_rgb[:, :, 1] = image_number\n",
    "fundo_rgb[:, :, 2] = image_number\n",
    "\n",
    "plt.imshow(fundo_rgb)"
   ]
  },
  {
   "cell_type": "code",
   "execution_count": 315,
   "metadata": {},
   "outputs": [
    {
     "name": "stdout",
     "output_type": "stream",
     "text": [
      "(64, 64, 4)\n",
      "1/1 [==============================] - 0s 122ms/step\n",
      "v\n"
     ]
    },
    {
     "data": {
      "image/png": "[encoded data removed]",
      "text/plain": [
       "<Figure size 432x288 with 1 Axes>"
      ]
     },
     "metadata": {
      "needs_background": "light"
     },
     "output_type": "display_data"
    }
   ],
   "source": [
    "image_path = r'C:\\Users\\iurig\\OneDrive\\Estudo ML\\Desafio 3\\Deploy\\Web Deploy\\desenho.png'\n",
    "target_size = (64, 64)\n",
    "\n",
    "image = iio.imread(image_path)\n",
    "\n",
    "resized_image = cv2.resize(image, target_size)\n",
    "\n",
    "print(resized_image.shape)\n",
    "\n",
    "image_number = 255 - resized_image[:, :, 3]\n",
    "\n",
    "plt.imshow(image_number)\n",
    "image_number\n",
    "\n",
    "fundo_rgb = np.zeros((64, 64, 3), dtype=np.uint8)\n",
    "\n",
    "fundo_rgb[:, :, 0] = image_number\n",
    "fundo_rgb[:, :, 1] = image_number\n",
    "fundo_rgb[:, :, 2] = image_number\n",
    "\n",
    "plt.imshow(fundo_rgb)\n",
    "# Faça previsões no modelo\n",
    "model = tf.keras.models.load_model(r'C:\\Users\\iurig\\OneDrive\\Estudo ML\\Desafio 3\\modelo.h5')\n",
    "\n",
    "input_image = np.expand_dims(fundo_rgb, axis=0)\n",
    "\n",
    "predicted_probabilities = model.predict(input_image)\n",
    "\n",
    "\n",
    "predicted_labels = np.argmax(predicted_probabilities, axis=1)\n",
    "\n",
    "\n",
    "print(label[predicted_labels[0]])"
   ]
  },
  {
   "cell_type": "markdown",
   "metadata": {},
   "source": [
    "                    V"
   ]
  }
 ],
 "metadata": {
  "kernelspec": {
   "display_name": "Python 3",
   "language": "python",
   "name": "python3"
  },
  "language_info": {
   "codemirror_mode": {
    "name": "ipython",
    "version": 3
   },
   "file_extension": ".py",
   "mimetype": "text/x-python",
   "name": "python",
   "nbconvert_exporter": "python",
   "pygments_lexer": "ipython3",
   "version": "3.10.5"
  }
 },
 "nbformat": 4,
 "nbformat_minor": 2
}
