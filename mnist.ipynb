{
 "cells": [
  {
   "cell_type": "code",
   "execution_count": 28,
   "metadata": {},
   "outputs": [],
   "source": [
    "import pandas as pd\n",
    "import numpy as np\n",
    "\n",
    "import matplotlib.pyplot as plt\n",
    "import seaborn as sns\n",
    "\n",
    "import imageio.v3 as iio\n",
    "\n",
    "from sklearn.model_selection import train_test_split\n",
    "from sklearn.metrics import f1_score\n",
    "\n",
    "import tensorflow as tf\n",
    "from tensorflow import keras\n",
    "\n",
    "%matplotlib inline\n",
    "tf.random.set_seed(42)\n",
    "np.random.seed(42)"
   ]
  },
  {
   "cell_type": "markdown",
   "metadata": {},
   "source": [
    "# Import Dataset"
   ]
  },
  {
   "cell_type": "code",
   "execution_count": 2,
   "metadata": {},
   "outputs": [],
   "source": [
    "num_classes = 10\n",
    "img_rows, img_cols = 28, 28\n",
    "num_channels = 1\n",
    "\n",
    "input_shape = (img_rows, img_cols, num_channels)\n",
    "\n",
    "(x_train, y_train),(x_test, y_test) = tf.keras.datasets.mnist.load_data()\n",
    "x_train, x_test = x_train / 255.0, x_test / 255.0"
   ]
  },
  {
   "cell_type": "code",
   "execution_count": 19,
   "metadata": {},
   "outputs": [
    {
     "data": {
      "text/plain": [
       "<matplotlib.image.AxesImage at 0x23e4abff610>"
      ]
     },
     "execution_count": 19,
     "metadata": {},
     "output_type": "execute_result"
    },
    {
     "data": {
      "image/png": "[encoded data removed]",
      "text/plain": [
       "<Figure size 432x288 with 1 Axes>"
      ]
     },
     "metadata": {
      "needs_background": "light"
     },
     "output_type": "display_data"
    }
   ],
   "source": [
    "plt.imshow(x_train[np.where(y_train==4)][2])"
   ]
  },
  {
   "cell_type": "markdown",
   "metadata": {},
   "source": [
    "# Create the models"
   ]
  },
  {
   "cell_type": "markdown",
   "metadata": {},
   "source": [
    "## Model Raw"
   ]
  },
  {
   "cell_type": "code",
   "execution_count": 6,
   "metadata": {},
   "outputs": [
    {
     "name": "stdout",
     "output_type": "stream",
     "text": [
      "Model: \"sequential_5\"\n",
      "_________________________________________________________________\n",
      " Layer (type)                Output Shape              Param #   \n",
      "=================================================================\n",
      " flatten_2 (Flatten)         (None, 784)               0         \n",
      "                                                                 \n",
      " dense_4 (Dense)             (None, 128)               100480    \n",
      "                                                                 \n",
      " dense_5 (Dense)             (None, 10)                1290      \n",
      "                                                                 \n",
      "=================================================================\n",
      "Total params: 101,770\n",
      "Trainable params: 101,770\n",
      "Non-trainable params: 0\n",
      "_________________________________________________________________\n",
      "Epoch 1/25\n",
      "1875/1875 [==============================] - 6s 3ms/step - loss: 0.2566 - accuracy: 0.9261 - val_loss: 0.1346 - val_accuracy: 0.9604\n",
      "Epoch 2/25\n",
      "1875/1875 [==============================] - 5s 3ms/step - loss: 0.1143 - accuracy: 0.9659 - val_loss: 0.1027 - val_accuracy: 0.9661\n",
      "Epoch 3/25\n",
      "1875/1875 [==============================] - 8s 4ms/step - loss: 0.0788 - accuracy: 0.9758 - val_loss: 0.0907 - val_accuracy: 0.9728\n",
      "Epoch 4/25\n",
      "1875/1875 [==============================] - 5s 3ms/step - loss: 0.0591 - accuracy: 0.9819 - val_loss: 0.0844 - val_accuracy: 0.9724\n",
      "Epoch 5/25\n",
      "1875/1875 [==============================] - 5s 3ms/step - loss: 0.0467 - accuracy: 0.9854 - val_loss: 0.0816 - val_accuracy: 0.9748\n",
      "Epoch 6/25\n",
      "1875/1875 [==============================] - 6s 3ms/step - loss: 0.0356 - accuracy: 0.9887 - val_loss: 0.0800 - val_accuracy: 0.9766\n",
      "Epoch 7/25\n",
      "1875/1875 [==============================] - 6s 3ms/step - loss: 0.0286 - accuracy: 0.9909 - val_loss: 0.0710 - val_accuracy: 0.9787\n",
      "Epoch 8/25\n",
      "1875/1875 [==============================] - 6s 3ms/step - loss: 0.0236 - accuracy: 0.9922 - val_loss: 0.1004 - val_accuracy: 0.9728\n"
     ]
    },
    {
     "data": {
      "text/plain": [
       "<keras.callbacks.History at 0x2bc7142e3b0>"
      ]
     },
     "execution_count": 6,
     "metadata": {},
     "output_type": "execute_result"
    }
   ],
   "source": [
    "model = tf.keras.models.Sequential()\n",
    "\n",
    "model = tf.keras.models.Sequential()\n",
    "model.add(tf.keras.layers.Flatten(input_shape = input_shape))\n",
    "model.add(tf.keras.layers.Dense(128, activation='relu'))\n",
    "model.add(tf.keras.layers.Dense(num_classes, activation='softmax'))\n",
    "\n",
    "model.compile(optimizer='adam',\n",
    "              loss='sparse_categorical_crossentropy',\n",
    "              metrics=['accuracy'])\n",
    "model.build()\n",
    "\n",
    "model.summary()\n",
    "\n",
    "early_stop = keras.callbacks.EarlyStopping(patience=1, restore_best_weights=True)\n",
    "\n",
    "model.fit(x_train, y_train, epochs=25, verbose=1, validation_data=(x_test, y_test), callbacks=early_stop)"
   ]
  },
  {
   "cell_type": "markdown",
   "metadata": {},
   "source": [
    "## Model 1"
   ]
  },
  {
   "cell_type": "code",
   "execution_count": 10,
   "metadata": {},
   "outputs": [
    {
     "name": "stdout",
     "output_type": "stream",
     "text": [
      "Model: \"sequential_8\"\n",
      "_________________________________________________________________\n",
      " Layer (type)                Output Shape              Param #   \n",
      "=================================================================\n",
      " conv2d_2 (Conv2D)           (None, 26, 26, 16)        160       \n",
      "                                                                 \n",
      " max_pooling2d_1 (MaxPooling  (None, 13, 13, 16)       0         \n",
      " 2D)                                                             \n",
      "                                                                 \n",
      " flatten_5 (Flatten)         (None, 2704)              0         \n",
      "                                                                 \n",
      " dense_10 (Dense)            (None, 128)               346240    \n",
      "                                                                 \n",
      " dense_11 (Dense)            (None, 10)                1290      \n",
      "                                                                 \n",
      "=================================================================\n",
      "Total params: 347,690\n",
      "Trainable params: 347,690\n",
      "Non-trainable params: 0\n",
      "_________________________________________________________________\n",
      "Epoch 1/25\n",
      "1875/1875 [==============================] - 22s 11ms/step - loss: 0.1881 - accuracy: 0.9434 - val_loss: 0.0859 - val_accuracy: 0.9746\n",
      "Epoch 2/25\n",
      "1875/1875 [==============================] - 21s 11ms/step - loss: 0.0616 - accuracy: 0.9819 - val_loss: 0.0480 - val_accuracy: 0.9839\n",
      "Epoch 3/25\n",
      "1875/1875 [==============================] - 23s 12ms/step - loss: 0.0392 - accuracy: 0.9880 - val_loss: 0.0476 - val_accuracy: 0.9841\n",
      "Epoch 4/25\n",
      "1875/1875 [==============================] - 21s 11ms/step - loss: 0.0271 - accuracy: 0.9918 - val_loss: 0.0434 - val_accuracy: 0.9852\n",
      "Epoch 5/25\n",
      "1875/1875 [==============================] - 20s 11ms/step - loss: 0.0182 - accuracy: 0.9941 - val_loss: 0.0503 - val_accuracy: 0.9842\n",
      "Epoch 6/25\n",
      "1875/1875 [==============================] - 24s 13ms/step - loss: 0.0134 - accuracy: 0.9958 - val_loss: 0.0432 - val_accuracy: 0.9863\n",
      "Epoch 7/25\n",
      "1875/1875 [==============================] - 23s 12ms/step - loss: 0.0097 - accuracy: 0.9969 - val_loss: 0.0524 - val_accuracy: 0.9848\n",
      "Epoch 8/25\n",
      "1875/1875 [==============================] - 24s 13ms/step - loss: 0.0088 - accuracy: 0.9972 - val_loss: 0.0486 - val_accuracy: 0.9857\n",
      "Epoch 9/25\n",
      "1875/1875 [==============================] - 23s 12ms/step - loss: 0.0064 - accuracy: 0.9979 - val_loss: 0.0537 - val_accuracy: 0.9853\n"
     ]
    },
    {
     "data": {
      "text/plain": [
       "<keras.callbacks.History at 0x2bc7bb87e80>"
      ]
     },
     "execution_count": 10,
     "metadata": {},
     "output_type": "execute_result"
    }
   ],
   "source": [
    "model_1 = tf.keras.models.Sequential()\n",
    "\n",
    "model_1.add(tf.keras.layers.Conv2D(16,(3,3), activation='relu', input_shape = input_shape))\n",
    "model_1.add(tf.keras.layers.MaxPool2D(2,2))\n",
    "\n",
    "model_1.add(tf.keras.layers.Flatten())\n",
    "\n",
    "model_1.add(tf.keras.layers.Dense(128, activation='relu'))\n",
    "model_1.add(tf.keras.layers.Dense(num_classes, activation='softmax'))\n",
    "\n",
    "model_1.compile(optimizer='adam',\n",
    "              loss='sparse_categorical_crossentropy',\n",
    "              metrics=['accuracy'])\n",
    "model_1.build()\n",
    "\n",
    "model_1.summary()\n",
    "\n",
    "early_stop = keras.callbacks.EarlyStopping(patience=3, restore_best_weights=True)\n",
    "\n",
    "model_1.fit(x_train, y_train, epochs=25, verbose=1, validation_data=(x_test, y_test), callbacks=early_stop)"
   ]
  },
  {
   "cell_type": "markdown",
   "metadata": {},
   "source": [
    "## Model 2"
   ]
  },
  {
   "cell_type": "code",
   "execution_count": 11,
   "metadata": {},
   "outputs": [
    {
     "name": "stdout",
     "output_type": "stream",
     "text": [
      "Model: \"sequential_9\"\n",
      "_________________________________________________________________\n",
      " Layer (type)                Output Shape              Param #   \n",
      "=================================================================\n",
      " conv2d_3 (Conv2D)           (None, 26, 26, 16)        160       \n",
      "                                                                 \n",
      " max_pooling2d_2 (MaxPooling  (None, 13, 13, 16)       0         \n",
      " 2D)                                                             \n",
      "                                                                 \n",
      " conv2d_4 (Conv2D)           (None, 11, 11, 64)        9280      \n",
      "                                                                 \n",
      " max_pooling2d_3 (MaxPooling  (None, 5, 5, 64)         0         \n",
      " 2D)                                                             \n",
      "                                                                 \n",
      " flatten_6 (Flatten)         (None, 1600)              0         \n",
      "                                                                 \n",
      " dense_12 (Dense)            (None, 128)               204928    \n",
      "                                                                 \n",
      " dense_13 (Dense)            (None, 10)                1290      \n",
      "                                                                 \n",
      "=================================================================\n",
      "Total params: 215,658\n",
      "Trainable params: 215,658\n",
      "Non-trainable params: 0\n",
      "_________________________________________________________________\n",
      "Epoch 1/25\n",
      "1875/1875 [==============================] - 28s 14ms/step - loss: 0.1418 - accuracy: 0.9567 - val_loss: 0.0459 - val_accuracy: 0.9846\n",
      "Epoch 2/25\n",
      "1875/1875 [==============================] - 26s 14ms/step - loss: 0.0448 - accuracy: 0.9859 - val_loss: 0.0373 - val_accuracy: 0.9880\n",
      "Epoch 3/25\n",
      "1875/1875 [==============================] - 26s 14ms/step - loss: 0.0295 - accuracy: 0.9906 - val_loss: 0.0297 - val_accuracy: 0.9901\n",
      "Epoch 4/25\n",
      "1875/1875 [==============================] - 26s 14ms/step - loss: 0.0227 - accuracy: 0.9924 - val_loss: 0.0330 - val_accuracy: 0.9892\n",
      "Epoch 5/25\n",
      "1875/1875 [==============================] - 27s 14ms/step - loss: 0.0177 - accuracy: 0.9939 - val_loss: 0.0263 - val_accuracy: 0.9916\n",
      "Epoch 6/25\n",
      "1875/1875 [==============================] - 27s 15ms/step - loss: 0.0122 - accuracy: 0.9961 - val_loss: 0.0293 - val_accuracy: 0.9910\n",
      "Epoch 7/25\n",
      "1875/1875 [==============================] - 26s 14ms/step - loss: 0.0096 - accuracy: 0.9968 - val_loss: 0.0333 - val_accuracy: 0.9909\n",
      "Epoch 8/25\n",
      "1875/1875 [==============================] - 26s 14ms/step - loss: 0.0090 - accuracy: 0.9969 - val_loss: 0.0322 - val_accuracy: 0.9913\n"
     ]
    },
    {
     "data": {
      "text/plain": [
       "<keras.callbacks.History at 0x2bc7ba43f70>"
      ]
     },
     "execution_count": 11,
     "metadata": {},
     "output_type": "execute_result"
    }
   ],
   "source": [
    "model_2 = tf.keras.models.Sequential()\n",
    "\n",
    "model_2.add(tf.keras.layers.Conv2D(16,(3,3), activation='relu', input_shape = input_shape))\n",
    "model_2.add(tf.keras.layers.MaxPool2D(2,2))\n",
    "\n",
    "model_2.add(tf.keras.layers.Conv2D(64,(3,3), activation='relu', input_shape = input_shape))\n",
    "model_2.add(tf.keras.layers.MaxPool2D(2,2))\n",
    "\n",
    "model_2.add(tf.keras.layers.Flatten())\n",
    "\n",
    "model_2.add(tf.keras.layers.Dense(128, activation='relu'))\n",
    "model_2.add(tf.keras.layers.Dense(num_classes, activation='softmax'))\n",
    "\n",
    "model_2.compile(optimizer='adam',\n",
    "              loss='sparse_categorical_crossentropy',\n",
    "              metrics=['accuracy'])\n",
    "model_2.build()\n",
    "\n",
    "model_2.summary()\n",
    "\n",
    "early_stop = keras.callbacks.EarlyStopping(patience=3, restore_best_weights=True)\n",
    "\n",
    "model_2.fit(x_train, y_train, epochs=25, verbose=1, validation_data=(x_test, y_test), callbacks=early_stop)"
   ]
  },
  {
   "cell_type": "markdown",
   "metadata": {},
   "source": [
    "## Model 3"
   ]
  },
  {
   "cell_type": "code",
   "execution_count": 12,
   "metadata": {},
   "outputs": [
    {
     "name": "stdout",
     "output_type": "stream",
     "text": [
      "Model: \"sequential_10\"\n",
      "_________________________________________________________________\n",
      " Layer (type)                Output Shape              Param #   \n",
      "=================================================================\n",
      " conv2d_5 (Conv2D)           (None, 26, 26, 16)        160       \n",
      "                                                                 \n",
      " max_pooling2d_4 (MaxPooling  (None, 13, 13, 16)       0         \n",
      " 2D)                                                             \n",
      "                                                                 \n",
      " conv2d_6 (Conv2D)           (None, 11, 11, 64)        9280      \n",
      "                                                                 \n",
      " max_pooling2d_5 (MaxPooling  (None, 5, 5, 64)         0         \n",
      " 2D)                                                             \n",
      "                                                                 \n",
      " conv2d_7 (Conv2D)           (None, 3, 3, 128)         73856     \n",
      "                                                                 \n",
      " max_pooling2d_6 (MaxPooling  (None, 1, 1, 128)        0         \n",
      " 2D)                                                             \n",
      "                                                                 \n",
      " flatten_7 (Flatten)         (None, 128)               0         \n",
      "                                                                 \n",
      " dense_14 (Dense)            (None, 128)               16512     \n",
      "                                                                 \n",
      " dense_15 (Dense)            (None, 10)                1290      \n",
      "                                                                 \n",
      "=================================================================\n",
      "Total params: 101,098\n",
      "Trainable params: 101,098\n",
      "Non-trainable params: 0\n",
      "_________________________________________________________________\n",
      "Epoch 1/25\n",
      "1875/1875 [==============================] - 24s 12ms/step - loss: 0.1944 - accuracy: 0.9389 - val_loss: 0.0737 - val_accuracy: 0.9784\n",
      "Epoch 2/25\n",
      "1875/1875 [==============================] - 22s 12ms/step - loss: 0.0638 - accuracy: 0.9801 - val_loss: 0.0499 - val_accuracy: 0.9839\n",
      "Epoch 3/25\n",
      "1875/1875 [==============================] - 27s 14ms/step - loss: 0.0465 - accuracy: 0.9856 - val_loss: 0.0504 - val_accuracy: 0.9858\n",
      "Epoch 4/25\n",
      "1875/1875 [==============================] - 26s 14ms/step - loss: 0.0361 - accuracy: 0.9884 - val_loss: 0.0443 - val_accuracy: 0.9871\n",
      "Epoch 5/25\n",
      "1875/1875 [==============================] - 25s 13ms/step - loss: 0.0293 - accuracy: 0.9905 - val_loss: 0.0547 - val_accuracy: 0.9846\n",
      "Epoch 6/25\n",
      "1875/1875 [==============================] - 25s 13ms/step - loss: 0.0228 - accuracy: 0.9930 - val_loss: 0.0489 - val_accuracy: 0.9851\n",
      "Epoch 7/25\n",
      "1875/1875 [==============================] - 28s 15ms/step - loss: 0.0200 - accuracy: 0.9935 - val_loss: 0.0471 - val_accuracy: 0.9876\n"
     ]
    },
    {
     "data": {
      "text/plain": [
       "<keras.callbacks.History at 0x2bc17a65e40>"
      ]
     },
     "execution_count": 12,
     "metadata": {},
     "output_type": "execute_result"
    }
   ],
   "source": [
    "model_3 = tf.keras.models.Sequential()\n",
    "\n",
    "model_3.add(tf.keras.layers.Conv2D(16,(3,3), activation='relu', input_shape = input_shape))\n",
    "model_3.add(tf.keras.layers.MaxPool2D(2,2))\n",
    "\n",
    "model_3.add(tf.keras.layers.Conv2D(64,(3,3), activation='relu', input_shape = input_shape))\n",
    "model_3.add(tf.keras.layers.MaxPool2D(2,2))\n",
    "\n",
    "model_3.add(tf.keras.layers.Conv2D(128,(3,3), activation='relu', input_shape = input_shape))\n",
    "model_3.add(tf.keras.layers.MaxPool2D(2,2))\n",
    "\n",
    "model_3.add(tf.keras.layers.Flatten())\n",
    "\n",
    "model_3.add(tf.keras.layers.Dense(128, activation='relu'))\n",
    "model_3.add(tf.keras.layers.Dense(num_classes, activation='softmax'))\n",
    "\n",
    "model_3.compile(optimizer='adam',\n",
    "              loss='sparse_categorical_crossentropy',\n",
    "              metrics=['accuracy'])\n",
    "model_3.build()\n",
    "\n",
    "model_3.summary()\n",
    "\n",
    "early_stop = keras.callbacks.EarlyStopping(patience=3, restore_best_weights=True)\n",
    "\n",
    "model_3.fit(x_train, y_train, epochs=25, verbose=1, validation_data=(x_test, y_test), callbacks=early_stop)"
   ]
  },
  {
   "cell_type": "markdown",
   "metadata": {},
   "source": [
    "## Model 4"
   ]
  },
  {
   "cell_type": "code",
   "execution_count": 22,
   "metadata": {},
   "outputs": [
    {
     "name": "stdout",
     "output_type": "stream",
     "text": [
      "Model: \"sequential_4\"\n",
      "_________________________________________________________________\n",
      " Layer (type)                Output Shape              Param #   \n",
      "=================================================================\n",
      " conv2d_8 (Conv2D)           (None, 26, 26, 16)        160       \n",
      "                                                                 \n",
      " max_pooling2d_8 (MaxPooling  (None, 13, 13, 16)       0         \n",
      " 2D)                                                             \n",
      "                                                                 \n",
      " conv2d_9 (Conv2D)           (None, 11, 11, 64)        9280      \n",
      "                                                                 \n",
      " max_pooling2d_9 (MaxPooling  (None, 5, 5, 64)         0         \n",
      " 2D)                                                             \n",
      "                                                                 \n",
      " flatten_4 (Flatten)         (None, 1600)              0         \n",
      "                                                                 \n",
      " dense_12 (Dense)            (None, 256)               409856    \n",
      "                                                                 \n",
      " dense_13 (Dense)            (None, 128)               32896     \n",
      "                                                                 \n",
      " dense_14 (Dense)            (None, 10)                1290      \n",
      "                                                                 \n",
      "=================================================================\n",
      "Total params: 453,482\n",
      "Trainable params: 453,482\n",
      "Non-trainable params: 0\n",
      "_________________________________________________________________\n",
      "Epoch 1/150\n",
      "1875/1875 [==============================] - 45s 23ms/step - loss: 0.1608 - accuracy: 0.9519 - val_loss: 0.0488 - val_accuracy: 0.9836\n",
      "Epoch 2/150\n",
      "1875/1875 [==============================] - 37s 20ms/step - loss: 0.0525 - accuracy: 0.9839 - val_loss: 0.0456 - val_accuracy: 0.9852\n",
      "Epoch 3/150\n",
      "1875/1875 [==============================] - 39s 21ms/step - loss: 0.0376 - accuracy: 0.9885 - val_loss: 0.0366 - val_accuracy: 0.9881\n",
      "Epoch 4/150\n",
      "1875/1875 [==============================] - 39s 21ms/step - loss: 0.0277 - accuracy: 0.9914 - val_loss: 0.0402 - val_accuracy: 0.9866\n",
      "Epoch 5/150\n",
      "1875/1875 [==============================] - 35s 19ms/step - loss: 0.0216 - accuracy: 0.9930 - val_loss: 0.0456 - val_accuracy: 0.9856\n",
      "Epoch 6/150\n",
      "1875/1875 [==============================] - 39s 21ms/step - loss: 0.0162 - accuracy: 0.9945 - val_loss: 0.0277 - val_accuracy: 0.9913\n",
      "Epoch 7/150\n",
      "1875/1875 [==============================] - 41s 22ms/step - loss: 0.0132 - accuracy: 0.9957 - val_loss: 0.0348 - val_accuracy: 0.9897\n",
      "Epoch 8/150\n",
      "1875/1875 [==============================] - 40s 21ms/step - loss: 0.0108 - accuracy: 0.9965 - val_loss: 0.0272 - val_accuracy: 0.9916\n",
      "Epoch 9/150\n",
      "1875/1875 [==============================] - 42s 22ms/step - loss: 0.0088 - accuracy: 0.9972 - val_loss: 0.0328 - val_accuracy: 0.9909\n",
      "Epoch 10/150\n",
      "1875/1875 [==============================] - 31s 16ms/step - loss: 0.0063 - accuracy: 0.9979 - val_loss: 0.0537 - val_accuracy: 0.9866\n",
      "Epoch 11/150\n",
      "1875/1875 [==============================] - 31s 16ms/step - loss: 0.0070 - accuracy: 0.9976 - val_loss: 0.0374 - val_accuracy: 0.9911\n"
     ]
    },
    {
     "data": {
      "text/plain": [
       "<keras.callbacks.History at 0x23e76e5ba00>"
      ]
     },
     "execution_count": 22,
     "metadata": {},
     "output_type": "execute_result"
    }
   ],
   "source": [
    "model_4 = tf.keras.models.Sequential()\n",
    "\n",
    "model_4.add(tf.keras.layers.Conv2D(16,(3,3), activation='relu', input_shape = input_shape))\n",
    "model_4.add(tf.keras.layers.MaxPool2D(2,2))\n",
    "\n",
    "model_4.add(tf.keras.layers.Conv2D(64,(3,3), activation='relu', input_shape = input_shape))\n",
    "model_4.add(tf.keras.layers.MaxPool2D(2,2))\n",
    "\n",
    "model_4.add(tf.keras.layers.Flatten())\n",
    "\n",
    "model_4.add(tf.keras.layers.Dense(256, activation='relu'))\n",
    "model_4.add(tf.keras.layers.Dense(128, activation='relu'))\n",
    "\n",
    "model_4.add(tf.keras.layers.Dense(num_classes, activation='softmax'))\n",
    "\n",
    "model_4.compile(optimizer=tf.keras.optimizers.Adam(learning_rate=0.0005),\n",
    "              loss='sparse_categorical_crossentropy',\n",
    "              metrics=['accuracy'])\n",
    "model_4.build()\n",
    "\n",
    "model_4.summary()\n",
    "\n",
    "early_stop = keras.callbacks.EarlyStopping(patience=3, restore_best_weights=True)\n",
    "\n",
    "model_4.fit(x_train, y_train, epochs=150, verbose=1, validation_data=(x_test, y_test), callbacks=early_stop)"
   ]
  },
  {
   "cell_type": "code",
   "execution_count": 24,
   "metadata": {},
   "outputs": [
    {
     "name": "stdout",
     "output_type": "stream",
     "text": [
      "313/313 [==============================] - 1s 4ms/step - loss: 0.0272 - accuracy: 0.9916\n"
     ]
    },
    {
     "data": {
      "text/plain": [
       "[0.027213141322135925, 0.991599977016449]"
      ]
     },
     "execution_count": 24,
     "metadata": {},
     "output_type": "execute_result"
    }
   ],
   "source": [
    "model_4.evaluate(x_test, y_test)"
   ]
  },
  {
   "cell_type": "markdown",
   "metadata": {},
   "source": [
    "## Model 5"
   ]
  },
  {
   "cell_type": "code",
   "execution_count": 14,
   "metadata": {},
   "outputs": [
    {
     "name": "stdout",
     "output_type": "stream",
     "text": [
      "Model: \"sequential_12\"\n",
      "_________________________________________________________________\n",
      " Layer (type)                Output Shape              Param #   \n",
      "=================================================================\n",
      " conv2d_10 (Conv2D)          (None, 26, 26, 16)        160       \n",
      "                                                                 \n",
      " max_pooling2d_9 (MaxPooling  (None, 13, 13, 16)       0         \n",
      " 2D)                                                             \n",
      "                                                                 \n",
      " conv2d_11 (Conv2D)          (None, 11, 11, 64)        9280      \n",
      "                                                                 \n",
      " max_pooling2d_10 (MaxPoolin  (None, 5, 5, 64)         0         \n",
      " g2D)                                                            \n",
      "                                                                 \n",
      " flatten_9 (Flatten)         (None, 1600)              0         \n",
      "                                                                 \n",
      " dense_19 (Dense)            (None, 256)               409856    \n",
      "                                                                 \n",
      " dense_20 (Dense)            (None, 128)               32896     \n",
      "                                                                 \n",
      " dense_21 (Dense)            (None, 64)                8256      \n",
      "                                                                 \n",
      " dense_22 (Dense)            (None, 10)                650       \n",
      "                                                                 \n",
      "=================================================================\n",
      "Total params: 461,098\n",
      "Trainable params: 461,098\n",
      "Non-trainable params: 0\n",
      "_________________________________________________________________\n",
      "Epoch 1/25\n",
      "1875/1875 [==============================] - 37s 19ms/step - loss: 0.1342 - accuracy: 0.9588 - val_loss: 0.0513 - val_accuracy: 0.9838\n",
      "Epoch 2/25\n",
      "1875/1875 [==============================] - 36s 19ms/step - loss: 0.0479 - accuracy: 0.9855 - val_loss: 0.0493 - val_accuracy: 0.9848\n",
      "Epoch 3/25\n",
      "1875/1875 [==============================] - 36s 19ms/step - loss: 0.0339 - accuracy: 0.9897 - val_loss: 0.0376 - val_accuracy: 0.9881\n",
      "Epoch 4/25\n",
      "1875/1875 [==============================] - 38s 20ms/step - loss: 0.0265 - accuracy: 0.9920 - val_loss: 0.0368 - val_accuracy: 0.9883\n",
      "Epoch 5/25\n",
      "1875/1875 [==============================] - 40s 22ms/step - loss: 0.0196 - accuracy: 0.9941 - val_loss: 0.0363 - val_accuracy: 0.9900\n",
      "Epoch 6/25\n",
      "1875/1875 [==============================] - 39s 21ms/step - loss: 0.0166 - accuracy: 0.9951 - val_loss: 0.0415 - val_accuracy: 0.9891\n",
      "Epoch 7/25\n",
      "1875/1875 [==============================] - 39s 21ms/step - loss: 0.0144 - accuracy: 0.9956 - val_loss: 0.0375 - val_accuracy: 0.9901\n",
      "Epoch 8/25\n",
      "1875/1875 [==============================] - 37s 20ms/step - loss: 0.0120 - accuracy: 0.9963 - val_loss: 0.0356 - val_accuracy: 0.9912\n",
      "Epoch 9/25\n",
      "1875/1875 [==============================] - 38s 20ms/step - loss: 0.0105 - accuracy: 0.9969 - val_loss: 0.0487 - val_accuracy: 0.9884\n",
      "Epoch 10/25\n",
      "1875/1875 [==============================] - 38s 20ms/step - loss: 0.0093 - accuracy: 0.9972 - val_loss: 0.0334 - val_accuracy: 0.9921\n",
      "Epoch 11/25\n",
      "1875/1875 [==============================] - 37s 20ms/step - loss: 0.0090 - accuracy: 0.9973 - val_loss: 0.0505 - val_accuracy: 0.9878\n",
      "Epoch 12/25\n",
      "1875/1875 [==============================] - 41s 22ms/step - loss: 0.0061 - accuracy: 0.9980 - val_loss: 0.0427 - val_accuracy: 0.9917\n",
      "Epoch 13/25\n",
      "1875/1875 [==============================] - 34s 18ms/step - loss: 0.0083 - accuracy: 0.9977 - val_loss: 0.0398 - val_accuracy: 0.9898\n"
     ]
    },
    {
     "data": {
      "text/plain": [
       "<keras.callbacks.History at 0x2bc1807b3d0>"
      ]
     },
     "execution_count": 14,
     "metadata": {},
     "output_type": "execute_result"
    }
   ],
   "source": [
    "model_5 = tf.keras.models.Sequential()\n",
    "\n",
    "model_5.add(tf.keras.layers.Conv2D(16,(3,3), activation='relu', input_shape = input_shape))\n",
    "model_5.add(tf.keras.layers.MaxPool2D(2,2))\n",
    "\n",
    "model_5.add(tf.keras.layers.Conv2D(64,(3,3), activation='relu', input_shape = input_shape))\n",
    "model_5.add(tf.keras.layers.MaxPool2D(2,2))\n",
    "\n",
    "model_5.add(tf.keras.layers.Flatten())\n",
    "\n",
    "model_5.add(tf.keras.layers.Dense(256, activation='relu'))\n",
    "model_5.add(tf.keras.layers.Dense(128, activation='relu'))\n",
    "model_5.add(tf.keras.layers.Dense(64, activation='relu'))\n",
    "\n",
    "model_5.add(tf.keras.layers.Dense(num_classes, activation='softmax'))\n",
    "\n",
    "model_5.compile(optimizer='adam',\n",
    "              loss='sparse_categorical_crossentropy',\n",
    "              metrics=['accuracy'])\n",
    "model_5.build()\n",
    "\n",
    "model_5.summary()\n",
    "\n",
    "early_stop = keras.callbacks.EarlyStopping(patience=3, restore_best_weights=True)\n",
    "\n",
    "model_5.fit(x_train, y_train, epochs=25, verbose=1, validation_data=(x_test, y_test), callbacks=early_stop)"
   ]
  },
  {
   "cell_type": "markdown",
   "metadata": {},
   "source": [
    "## Model 6"
   ]
  },
  {
   "cell_type": "code",
   "execution_count": 16,
   "metadata": {},
   "outputs": [
    {
     "name": "stdout",
     "output_type": "stream",
     "text": [
      "Model: \"sequential_14\"\n",
      "_________________________________________________________________\n",
      " Layer (type)                Output Shape              Param #   \n",
      "=================================================================\n",
      " conv2d_14 (Conv2D)          (None, 26, 26, 16)        160       \n",
      "                                                                 \n",
      " max_pooling2d_13 (MaxPoolin  (None, 13, 13, 16)       0         \n",
      " g2D)                                                            \n",
      "                                                                 \n",
      " conv2d_15 (Conv2D)          (None, 11, 11, 64)        9280      \n",
      "                                                                 \n",
      " max_pooling2d_14 (MaxPoolin  (None, 5, 5, 64)         0         \n",
      " g2D)                                                            \n",
      "                                                                 \n",
      " flatten_11 (Flatten)        (None, 1600)              0         \n",
      "                                                                 \n",
      " dense_26 (Dense)            (None, 512)               819712    \n",
      "                                                                 \n",
      " dense_27 (Dense)            (None, 256)               131328    \n",
      "                                                                 \n",
      " dense_28 (Dense)            (None, 128)               32896     \n",
      "                                                                 \n",
      " dense_29 (Dense)            (None, 10)                1290      \n",
      "                                                                 \n",
      "=================================================================\n",
      "Total params: 994,666\n",
      "Trainable params: 994,666\n",
      "Non-trainable params: 0\n",
      "_________________________________________________________________\n",
      "Epoch 1/25\n",
      "1875/1875 [==============================] - 54s 28ms/step - loss: 0.1335 - accuracy: 0.9579 - val_loss: 0.0476 - val_accuracy: 0.9856\n",
      "Epoch 2/25\n",
      "1875/1875 [==============================] - 50s 26ms/step - loss: 0.0479 - accuracy: 0.9856 - val_loss: 0.0377 - val_accuracy: 0.9890\n",
      "Epoch 3/25\n",
      "1875/1875 [==============================] - 54s 29ms/step - loss: 0.0331 - accuracy: 0.9904 - val_loss: 0.0454 - val_accuracy: 0.9865\n",
      "Epoch 4/25\n",
      "1875/1875 [==============================] - 51s 27ms/step - loss: 0.0265 - accuracy: 0.9920 - val_loss: 0.0331 - val_accuracy: 0.9897\n",
      "Epoch 5/25\n",
      "1875/1875 [==============================] - 51s 27ms/step - loss: 0.0205 - accuracy: 0.9941 - val_loss: 0.0401 - val_accuracy: 0.9878\n",
      "Epoch 6/25\n",
      "1875/1875 [==============================] - 49s 26ms/step - loss: 0.0165 - accuracy: 0.9951 - val_loss: 0.0355 - val_accuracy: 0.9897\n",
      "Epoch 7/25\n",
      "1875/1875 [==============================] - 40s 22ms/step - loss: 0.0142 - accuracy: 0.9955 - val_loss: 0.0430 - val_accuracy: 0.9887\n"
     ]
    },
    {
     "data": {
      "text/plain": [
       "<keras.callbacks.History at 0x2bc20cabe20>"
      ]
     },
     "execution_count": 16,
     "metadata": {},
     "output_type": "execute_result"
    }
   ],
   "source": [
    "model_6 = tf.keras.models.Sequential()\n",
    "\n",
    "model_6.add(tf.keras.layers.Conv2D(16,(3,3), activation='relu', input_shape = input_shape))\n",
    "model_6.add(tf.keras.layers.MaxPool2D(2,2))\n",
    "\n",
    "model_6.add(tf.keras.layers.Conv2D(64,(3,3), activation='relu', input_shape = input_shape))\n",
    "model_6.add(tf.keras.layers.MaxPool2D(2,2))\n",
    "\n",
    "model_6.add(tf.keras.layers.Flatten())\n",
    "\n",
    "model_6.add(tf.keras.layers.Dense(512, activation='relu'))\n",
    "model_6.add(tf.keras.layers.Dense(256, activation='relu'))\n",
    "model_6.add(tf.keras.layers.Dense(128, activation='relu'))\n",
    "\n",
    "model_6.add(tf.keras.layers.Dense(num_classes, activation='softmax'))\n",
    "\n",
    "model_6.compile(optimizer='adam',\n",
    "              loss='sparse_categorical_crossentropy',\n",
    "              metrics=['accuracy'])\n",
    "model_6.build()\n",
    "\n",
    "model_6.summary()\n",
    "\n",
    "early_stop = keras.callbacks.EarlyStopping(patience=3, restore_best_weights=True)\n",
    "\n",
    "model_6.fit(x_train, y_train, epochs=25, verbose=1, validation_data=(x_test, y_test), callbacks=early_stop)"
   ]
  },
  {
   "cell_type": "markdown",
   "metadata": {},
   "source": [
    "# Model Increse"
   ]
  },
  {
   "cell_type": "code",
   "execution_count": 23,
   "metadata": {},
   "outputs": [
    {
     "name": "stdout",
     "output_type": "stream",
     "text": [
      "Model: \"sequential_5\"\n",
      "_________________________________________________________________\n",
      " Layer (type)                Output Shape              Param #   \n",
      "=================================================================\n",
      " conv2d_10 (Conv2D)          (None, 26, 26, 16)        160       \n",
      "                                                                 \n",
      " max_pooling2d_10 (MaxPoolin  (None, 13, 13, 16)       0         \n",
      " g2D)                                                            \n",
      "                                                                 \n",
      " conv2d_11 (Conv2D)          (None, 11, 11, 64)        9280      \n",
      "                                                                 \n",
      " max_pooling2d_11 (MaxPoolin  (None, 5, 5, 64)         0         \n",
      " g2D)                                                            \n",
      "                                                                 \n",
      " flatten_5 (Flatten)         (None, 1600)              0         \n",
      "                                                                 \n",
      " dense_15 (Dense)            (None, 256)               409856    \n",
      "                                                                 \n",
      " dropout (Dropout)           (None, 256)               0         \n",
      "                                                                 \n",
      " dense_16 (Dense)            (None, 128)               32896     \n",
      "                                                                 \n",
      " dense_17 (Dense)            (None, 10)                1290      \n",
      "                                                                 \n",
      "=================================================================\n",
      "Total params: 453,482\n",
      "Trainable params: 453,482\n",
      "Non-trainable params: 0\n",
      "_________________________________________________________________\n",
      "Epoch 1/150\n",
      "1875/1875 [==============================] - 32s 17ms/step - loss: 0.2373 - accuracy: 0.9255 - val_loss: 0.0524 - val_accuracy: 0.9836\n",
      "Epoch 2/150\n",
      "1875/1875 [==============================] - 30s 16ms/step - loss: 0.0761 - accuracy: 0.9767 - val_loss: 0.0364 - val_accuracy: 0.9880\n",
      "Epoch 3/150\n",
      "1875/1875 [==============================] - 29s 16ms/step - loss: 0.0554 - accuracy: 0.9833 - val_loss: 0.0301 - val_accuracy: 0.9890\n",
      "Epoch 4/150\n",
      "1875/1875 [==============================] - 34s 18ms/step - loss: 0.0437 - accuracy: 0.9872 - val_loss: 0.0318 - val_accuracy: 0.9892\n",
      "Epoch 5/150\n",
      "1875/1875 [==============================] - 30s 16ms/step - loss: 0.0379 - accuracy: 0.9882 - val_loss: 0.0264 - val_accuracy: 0.9908\n",
      "Epoch 6/150\n",
      "1875/1875 [==============================] - 31s 16ms/step - loss: 0.0319 - accuracy: 0.9902 - val_loss: 0.0245 - val_accuracy: 0.9932\n",
      "Epoch 7/150\n",
      "1875/1875 [==============================] - 36s 19ms/step - loss: 0.0266 - accuracy: 0.9913 - val_loss: 0.0230 - val_accuracy: 0.9918\n",
      "Epoch 8/150\n",
      "1875/1875 [==============================] - 36s 19ms/step - loss: 0.0220 - accuracy: 0.9931 - val_loss: 0.0260 - val_accuracy: 0.9915\n",
      "Epoch 9/150\n",
      "1875/1875 [==============================] - 33s 18ms/step - loss: 0.0194 - accuracy: 0.9938 - val_loss: 0.0244 - val_accuracy: 0.9926\n",
      "Epoch 10/150\n",
      "1875/1875 [==============================] - 37s 20ms/step - loss: 0.0191 - accuracy: 0.9945 - val_loss: 0.0251 - val_accuracy: 0.9925\n"
     ]
    },
    {
     "data": {
      "text/plain": [
       "<keras.callbacks.History at 0x23e4c74d2d0>"
      ]
     },
     "execution_count": 23,
     "metadata": {},
     "output_type": "execute_result"
    }
   ],
   "source": [
    "model_4_with_dropout = tf.keras.models.Sequential()\n",
    "\n",
    "model_4_with_dropout.add(tf.keras.layers.Conv2D(16,(3,3), activation='relu', input_shape = input_shape))\n",
    "model_4_with_dropout.add(tf.keras.layers.MaxPool2D(2,2))\n",
    "\n",
    "model_4_with_dropout.add(tf.keras.layers.Conv2D(64,(3,3), activation='relu', input_shape = input_shape))\n",
    "model_4_with_dropout.add(tf.keras.layers.MaxPool2D(2,2))\n",
    "\n",
    "model_4_with_dropout.add(tf.keras.layers.Flatten())\n",
    "\n",
    "model_4_with_dropout.add(tf.keras.layers.Dense(256, activation='relu'))\n",
    "model_4_with_dropout.add(tf.keras.layers.Dropout(0.5))\n",
    "model_4_with_dropout.add(tf.keras.layers.Dense(128, activation='relu'))\n",
    "\n",
    "model_4_with_dropout.add(tf.keras.layers.Dense(num_classes, activation='softmax'))\n",
    "\n",
    "model_4_with_dropout.compile(optimizer=tf.keras.optimizers.Adam(learning_rate=0.0005),\n",
    "              loss='sparse_categorical_crossentropy',\n",
    "              metrics=['accuracy'])\n",
    "model_4_with_dropout.build()\n",
    "\n",
    "model_4_with_dropout.summary()\n",
    "\n",
    "early_stop = keras.callbacks.EarlyStopping(patience=3, restore_best_weights=True)\n",
    "\n",
    "model_4_with_dropout.fit(x_train, y_train, epochs=150, verbose=1, validation_data=(x_test, y_test), callbacks=early_stop)"
   ]
  },
  {
   "cell_type": "code",
   "execution_count": 25,
   "metadata": {},
   "outputs": [
    {
     "name": "stdout",
     "output_type": "stream",
     "text": [
      "313/313 [==============================] - 1s 4ms/step - loss: 0.0230 - accuracy: 0.9918\n"
     ]
    },
    {
     "data": {
      "text/plain": [
       "[0.02302253246307373, 0.9918000102043152]"
      ]
     },
     "execution_count": 25,
     "metadata": {},
     "output_type": "execute_result"
    }
   ],
   "source": [
    "model_4_with_dropout.evaluate(x_test, y_test)"
   ]
  },
  {
   "cell_type": "code",
   "execution_count": 30,
   "metadata": {},
   "outputs": [
    {
     "name": "stdout",
     "output_type": "stream",
     "text": [
      "Model: \"sequential_8\"\n",
      "_________________________________________________________________\n",
      " Layer (type)                Output Shape              Param #   \n",
      "=================================================================\n",
      " conv2d_16 (Conv2D)          (None, 26, 26, 16)        160       \n",
      "                                                                 \n",
      " max_pooling2d_16 (MaxPoolin  (None, 13, 13, 16)       0         \n",
      " g2D)                                                            \n",
      "                                                                 \n",
      " conv2d_17 (Conv2D)          (None, 11, 11, 64)        9280      \n",
      "                                                                 \n",
      " max_pooling2d_17 (MaxPoolin  (None, 5, 5, 64)         0         \n",
      " g2D)                                                            \n",
      "                                                                 \n",
      " flatten_8 (Flatten)         (None, 1600)              0         \n",
      "                                                                 \n",
      " dense_24 (Dense)            (None, 256)               409856    \n",
      "                                                                 \n",
      " dropout_3 (Dropout)         (None, 256)               0         \n",
      "                                                                 \n",
      " dense_25 (Dense)            (None, 128)               32896     \n",
      "                                                                 \n",
      " dense_26 (Dense)            (None, 10)                1290      \n",
      "                                                                 \n",
      "=================================================================\n",
      "Total params: 453,482\n",
      "Trainable params: 453,482\n",
      "Non-trainable params: 0\n",
      "_________________________________________________________________\n",
      "Epoch 1/150\n",
      "1875/1875 [==============================] - 45s 23ms/step - loss: 0.2226 - accuracy: 0.9311 - val_loss: 0.0550 - val_accuracy: 0.9832\n",
      "Epoch 2/150\n",
      "1875/1875 [==============================] - 40s 21ms/step - loss: 0.0700 - accuracy: 0.9791 - val_loss: 0.0351 - val_accuracy: 0.9878\n",
      "Epoch 3/150\n",
      "1875/1875 [==============================] - 40s 21ms/step - loss: 0.0530 - accuracy: 0.9843 - val_loss: 0.0303 - val_accuracy: 0.9898\n",
      "Epoch 4/150\n",
      "1875/1875 [==============================] - 35s 19ms/step - loss: 0.0421 - accuracy: 0.9875 - val_loss: 0.0268 - val_accuracy: 0.9912\n",
      "Epoch 5/150\n",
      "1875/1875 [==============================] - 34s 18ms/step - loss: 0.0353 - accuracy: 0.9887 - val_loss: 0.0279 - val_accuracy: 0.9910\n",
      "Epoch 6/150\n",
      "1875/1875 [==============================] - 34s 18ms/step - loss: 0.0286 - accuracy: 0.9912 - val_loss: 0.0255 - val_accuracy: 0.9922\n",
      "Epoch 7/150\n",
      "1875/1875 [==============================] - 37s 20ms/step - loss: 0.0251 - accuracy: 0.9921 - val_loss: 0.0213 - val_accuracy: 0.9939\n",
      "Epoch 8/150\n",
      "1875/1875 [==============================] - 34s 18ms/step - loss: 0.0214 - accuracy: 0.9934 - val_loss: 0.0267 - val_accuracy: 0.9923\n",
      "Epoch 9/150\n",
      "1875/1875 [==============================] - 36s 19ms/step - loss: 0.0190 - accuracy: 0.9945 - val_loss: 0.0235 - val_accuracy: 0.9927\n",
      "Epoch 10/150\n",
      "1875/1875 [==============================] - 36s 19ms/step - loss: 0.0160 - accuracy: 0.9953 - val_loss: 0.0242 - val_accuracy: 0.9925\n"
     ]
    },
    {
     "data": {
      "text/plain": [
       "<keras.callbacks.History at 0x23e516860e0>"
      ]
     },
     "execution_count": 30,
     "metadata": {},
     "output_type": "execute_result"
    }
   ],
   "source": [
    "model_4_with_dropout_2 = tf.keras.models.Sequential()\n",
    "\n",
    "model_4_with_dropout_2.add(tf.keras.layers.Conv2D(16,(3,3), activation='relu', input_shape = input_shape))\n",
    "model_4_with_dropout_2.add(tf.keras.layers.MaxPool2D(2,2))\n",
    "\n",
    "model_4_with_dropout_2.add(tf.keras.layers.Conv2D(64,(3,3), activation='relu', input_shape = input_shape))\n",
    "model_4_with_dropout_2.add(tf.keras.layers.MaxPool2D(2,2))\n",
    "\n",
    "model_4_with_dropout_2.add(tf.keras.layers.Flatten())\n",
    "\n",
    "model_4_with_dropout_2.add(tf.keras.layers.Dense(256, activation='relu'))\n",
    "model_4_with_dropout_2.add(tf.keras.layers.Dropout(0.5))\n",
    "model_4_with_dropout_2.add(tf.keras.layers.Dense(128, activation='relu'))\n",
    "\n",
    "model_4_with_dropout_2.add(tf.keras.layers.Dense(num_classes, activation='softmax'))\n",
    "\n",
    "model_4_with_dropout_2.compile(optimizer=tf.keras.optimizers.Adam(learning_rate=0.0005),\n",
    "              loss='sparse_categorical_crossentropy',\n",
    "              metrics=['accuracy'])\n",
    "\n",
    "model_4_with_dropout_2.build()\n",
    "\n",
    "model_4_with_dropout_2.summary()\n",
    "\n",
    "early_stop = keras.callbacks.EarlyStopping(patience=3, monitor='val_accuracy',restore_best_weights=True)\n",
    "\n",
    "model_4_with_dropout_2.fit(x_train, y_train, epochs=150, verbose=1, validation_data=(x_test, y_test), callbacks=early_stop)"
   ]
  },
  {
   "cell_type": "markdown",
   "metadata": {},
   "source": [
    "Epoch 7/150  \n",
    "37s 20ms/step - loss: 0.0251 - accuracy: 0.9921 - val_loss: 0.0213 - val_accuracy: 0.9939"
   ]
  },
  {
   "cell_type": "code",
   "execution_count": 31,
   "metadata": {},
   "outputs": [
    {
     "name": "stdout",
     "output_type": "stream",
     "text": [
      "313/313 [==============================] - 1s 4ms/step - loss: 0.0213 - accuracy: 0.9939\n"
     ]
    },
    {
     "data": {
      "text/plain": [
       "[0.021317657083272934, 0.9939000010490417]"
      ]
     },
     "execution_count": 31,
     "metadata": {},
     "output_type": "execute_result"
    }
   ],
   "source": [
    "model_4_with_dropout_2.evaluate(x_test, y_test)"
   ]
  },
  {
   "cell_type": "markdown",
   "metadata": {},
   "source": [
    "# Predict"
   ]
  },
  {
   "cell_type": "code",
   "execution_count": 42,
   "metadata": {},
   "outputs": [
    {
     "name": "stdout",
     "output_type": "stream",
     "text": [
      "4\n",
      "313/313 [==============================] - 1s 4ms/step\n",
      "4\n"
     ]
    },
    {
     "data": {
      "image/png": "[encoded data removed]",
      "text/plain": [
       "<Figure size 432x288 with 1 Axes>"
      ]
     },
     "metadata": {
      "needs_background": "light"
     },
     "output_type": "display_data"
    }
   ],
   "source": [
    "num_image = 6\n",
    "\n",
    "plt.imshow(x_test[num_image])\n",
    "print(y_test[num_image])\n",
    "\n",
    "predict = model_4_with_dropout_2.predict(x_test)[num_image].round()\n",
    "\n",
    "print(np.where(predict == 1)[0][0])"
   ]
  },
  {
   "cell_type": "code",
   "execution_count": 61,
   "metadata": {},
   "outputs": [
    {
     "name": "stdout",
     "output_type": "stream",
     "text": [
      "1/1 [==============================] - 0s 57ms/step\n"
     ]
    },
    {
     "data": {
      "text/plain": [
       "4"
      ]
     },
     "execution_count": 61,
     "metadata": {},
     "output_type": "execute_result"
    }
   ],
   "source": [
    "image_predict = np.expand_dims(x_test[num_image], axis=0)\n",
    "\n",
    "predicted_probabilities = model_4_with_dropout_2.predict(image_predict)\n",
    "\n",
    "predicted_labels = np.argmax(predicted_probabilities, axis=1)[0]\n",
    "\n",
    "predicted_labels"
   ]
  },
  {
   "cell_type": "markdown",
   "metadata": {},
   "source": [
    "# Export"
   ]
  },
  {
   "cell_type": "code",
   "execution_count": 62,
   "metadata": {},
   "outputs": [],
   "source": [
    "model_4_with_dropout_2.save(r'C:\\Users\\iurig\\OneDrive\\Estudo ML\\Desafio 3\\model_mnist.h5')"
   ]
  }
 ],
 "metadata": {
  "kernelspec": {
   "display_name": "Python 3",
   "language": "python",
   "name": "python3"
  },
  "language_info": {
   "codemirror_mode": {
    "name": "ipython",
    "version": 3
   },
   "file_extension": ".py",
   "mimetype": "text/x-python",
   "name": "python",
   "nbconvert_exporter": "python",
   "pygments_lexer": "ipython3",
   "version": "3.10.5"
  }
 },
 "nbformat": 4,
 "nbformat_minor": 2
}
